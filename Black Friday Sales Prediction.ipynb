{
 "cells": [
  {
   "cell_type": "markdown",
   "metadata": {},
   "source": [
    "# Black Friday Sales Prediction"
   ]
  },
  {
   "cell_type": "markdown",
   "metadata": {},
   "source": [
    "## Data Exploration"
   ]
  },
  {
   "cell_type": "code",
   "execution_count": 2,
   "metadata": {},
   "outputs": [],
   "source": [
    "import pandas as pd \n",
    "import numpy as np\n",
    "import matplotlib.pyplot as plt\n",
    "from collections import Counter\n",
    "import math\n",
    "import seaborn as sns"
   ]
  },
  {
   "cell_type": "code",
   "execution_count": 3,
   "metadata": {},
   "outputs": [],
   "source": [
    "from sklearn import preprocessing\n",
    "from sklearn.metrics.cluster import normalized_mutual_info_score\n",
    "from sklearn.model_selection import train_test_split\n",
    "\n",
    "\n",
    "\n",
    "from sklearn.model_selection import GridSearchCV\n",
    "from sklearn.model_selection import KFold\n",
    "from sklearn.model_selection import cross_val_score\n",
    "from sklearn.metrics import mean_squared_error, r2_score\n",
    "from sklearn import linear_model\n",
    "from sklearn.linear_model import LinearRegression, Lasso\n",
    "from sklearn.ensemble import RandomForestRegressor\n",
    "from sklearn.neural_network import MLPRegressor\n",
    "from xgboost import XGBRegressor"
   ]
  },
  {
   "cell_type": "code",
   "execution_count": 3,
   "metadata": {},
   "outputs": [
    {
     "data": {
      "text/plain": [
       "(550068, 12)"
      ]
     },
     "execution_count": 3,
     "metadata": {},
     "output_type": "execute_result"
    }
   ],
   "source": [
    "#read in data\n",
    "train_df = pd.read_csv('train.csv')\n",
    "test_df = pd.read_csv('test.csv')\n",
    "train_df.shape"
   ]
  },
  {
   "cell_type": "code",
   "execution_count": null,
   "metadata": {},
   "outputs": [],
   "source": []
  },
  {
   "cell_type": "code",
   "execution_count": 4,
   "metadata": {},
   "outputs": [],
   "source": [
    "def data_summary(d):\n",
    "    '''\n",
    "    function that gets the summary information on dataframe\n",
    "    '''\n",
    "    number_nan = [d[col].isnull().sum() for col in d.columns]\n",
    "    number_distinct = [d[col].nunique() for col in d.columns]\n",
    "    distinct_val = [d[col].unique() for col in d.columns]\n",
    "    data_type = [type(d[col][0]) for col in d.columns]\n",
    "    data_summary = pd.DataFrame({'columns': d.columns,\n",
    "                                 'number_nan': number_nan,\n",
    "                                 'number_distinct': number_distinct,\n",
    "                                 'distinct_val': distinct_val,\n",
    "                                'data_type': data_type})\n",
    "    data_summary.set_index('columns')\n",
    "    return data_summary"
   ]
  },
  {
   "cell_type": "markdown",
   "metadata": {},
   "source": [
    "### Basic Stats and Data Visualization"
   ]
  },
  {
   "cell_type": "markdown",
   "metadata": {},
   "source": [
    "**Basic Statistics**"
   ]
  },
  {
   "cell_type": "code",
   "execution_count": 5,
   "metadata": {
    "scrolled": false
   },
   "outputs": [
    {
     "data": {
      "text/html": [
       "<div>\n",
       "<style scoped>\n",
       "    .dataframe tbody tr th:only-of-type {\n",
       "        vertical-align: middle;\n",
       "    }\n",
       "\n",
       "    .dataframe tbody tr th {\n",
       "        vertical-align: top;\n",
       "    }\n",
       "\n",
       "    .dataframe thead th {\n",
       "        text-align: right;\n",
       "    }\n",
       "</style>\n",
       "<table border=\"1\" class=\"dataframe\">\n",
       "  <thead>\n",
       "    <tr style=\"text-align: right;\">\n",
       "      <th></th>\n",
       "      <th>columns</th>\n",
       "      <th>number_nan</th>\n",
       "      <th>number_distinct</th>\n",
       "      <th>distinct_val</th>\n",
       "      <th>data_type</th>\n",
       "    </tr>\n",
       "  </thead>\n",
       "  <tbody>\n",
       "    <tr>\n",
       "      <th>0</th>\n",
       "      <td>User_ID</td>\n",
       "      <td>0</td>\n",
       "      <td>5891</td>\n",
       "      <td>[1000001, 1000002, 1000003, 1000004, 1000005, ...</td>\n",
       "      <td>&lt;class 'numpy.int64'&gt;</td>\n",
       "    </tr>\n",
       "    <tr>\n",
       "      <th>1</th>\n",
       "      <td>Product_ID</td>\n",
       "      <td>0</td>\n",
       "      <td>3631</td>\n",
       "      <td>[P00069042, P00248942, P00087842, P00085442, P...</td>\n",
       "      <td>&lt;class 'str'&gt;</td>\n",
       "    </tr>\n",
       "    <tr>\n",
       "      <th>2</th>\n",
       "      <td>Gender</td>\n",
       "      <td>0</td>\n",
       "      <td>2</td>\n",
       "      <td>[F, M]</td>\n",
       "      <td>&lt;class 'str'&gt;</td>\n",
       "    </tr>\n",
       "    <tr>\n",
       "      <th>3</th>\n",
       "      <td>Age</td>\n",
       "      <td>0</td>\n",
       "      <td>7</td>\n",
       "      <td>[0-17, 55+, 26-35, 46-50, 51-55, 36-45, 18-25]</td>\n",
       "      <td>&lt;class 'str'&gt;</td>\n",
       "    </tr>\n",
       "    <tr>\n",
       "      <th>4</th>\n",
       "      <td>Occupation</td>\n",
       "      <td>0</td>\n",
       "      <td>21</td>\n",
       "      <td>[10, 16, 15, 7, 20, 9, 1, 12, 17, 0, 3, 4, 11,...</td>\n",
       "      <td>&lt;class 'numpy.int64'&gt;</td>\n",
       "    </tr>\n",
       "    <tr>\n",
       "      <th>5</th>\n",
       "      <td>City_Category</td>\n",
       "      <td>0</td>\n",
       "      <td>3</td>\n",
       "      <td>[A, C, B]</td>\n",
       "      <td>&lt;class 'str'&gt;</td>\n",
       "    </tr>\n",
       "    <tr>\n",
       "      <th>6</th>\n",
       "      <td>Stay_In_Current_City_Years</td>\n",
       "      <td>0</td>\n",
       "      <td>5</td>\n",
       "      <td>[2, 4+, 3, 1, 0]</td>\n",
       "      <td>&lt;class 'str'&gt;</td>\n",
       "    </tr>\n",
       "    <tr>\n",
       "      <th>7</th>\n",
       "      <td>Marital_Status</td>\n",
       "      <td>0</td>\n",
       "      <td>2</td>\n",
       "      <td>[0, 1]</td>\n",
       "      <td>&lt;class 'numpy.int64'&gt;</td>\n",
       "    </tr>\n",
       "    <tr>\n",
       "      <th>8</th>\n",
       "      <td>Product_Category_1</td>\n",
       "      <td>0</td>\n",
       "      <td>20</td>\n",
       "      <td>[3, 1, 12, 8, 5, 4, 2, 6, 14, 11, 13, 15, 7, 1...</td>\n",
       "      <td>&lt;class 'numpy.int64'&gt;</td>\n",
       "    </tr>\n",
       "    <tr>\n",
       "      <th>9</th>\n",
       "      <td>Product_Category_2</td>\n",
       "      <td>173638</td>\n",
       "      <td>17</td>\n",
       "      <td>[nan, 6.0, 14.0, 2.0, 8.0, 15.0, 16.0, 11.0, 5...</td>\n",
       "      <td>&lt;class 'numpy.float64'&gt;</td>\n",
       "    </tr>\n",
       "    <tr>\n",
       "      <th>10</th>\n",
       "      <td>Product_Category_3</td>\n",
       "      <td>383247</td>\n",
       "      <td>15</td>\n",
       "      <td>[nan, 14.0, 17.0, 5.0, 4.0, 16.0, 15.0, 8.0, 9...</td>\n",
       "      <td>&lt;class 'numpy.float64'&gt;</td>\n",
       "    </tr>\n",
       "    <tr>\n",
       "      <th>11</th>\n",
       "      <td>Purchase</td>\n",
       "      <td>0</td>\n",
       "      <td>18105</td>\n",
       "      <td>[8370, 15200, 1422, 1057, 7969, 15227, 19215, ...</td>\n",
       "      <td>&lt;class 'numpy.int64'&gt;</td>\n",
       "    </tr>\n",
       "  </tbody>\n",
       "</table>\n",
       "</div>"
      ],
      "text/plain": [
       "                       columns  number_nan  number_distinct  \\\n",
       "0                      User_ID           0             5891   \n",
       "1                   Product_ID           0             3631   \n",
       "2                       Gender           0                2   \n",
       "3                          Age           0                7   \n",
       "4                   Occupation           0               21   \n",
       "5                City_Category           0                3   \n",
       "6   Stay_In_Current_City_Years           0                5   \n",
       "7               Marital_Status           0                2   \n",
       "8           Product_Category_1           0               20   \n",
       "9           Product_Category_2      173638               17   \n",
       "10          Product_Category_3      383247               15   \n",
       "11                    Purchase           0            18105   \n",
       "\n",
       "                                         distinct_val                data_type  \n",
       "0   [1000001, 1000002, 1000003, 1000004, 1000005, ...    <class 'numpy.int64'>  \n",
       "1   [P00069042, P00248942, P00087842, P00085442, P...            <class 'str'>  \n",
       "2                                              [F, M]            <class 'str'>  \n",
       "3      [0-17, 55+, 26-35, 46-50, 51-55, 36-45, 18-25]            <class 'str'>  \n",
       "4   [10, 16, 15, 7, 20, 9, 1, 12, 17, 0, 3, 4, 11,...    <class 'numpy.int64'>  \n",
       "5                                           [A, C, B]            <class 'str'>  \n",
       "6                                    [2, 4+, 3, 1, 0]            <class 'str'>  \n",
       "7                                              [0, 1]    <class 'numpy.int64'>  \n",
       "8   [3, 1, 12, 8, 5, 4, 2, 6, 14, 11, 13, 15, 7, 1...    <class 'numpy.int64'>  \n",
       "9   [nan, 6.0, 14.0, 2.0, 8.0, 15.0, 16.0, 11.0, 5...  <class 'numpy.float64'>  \n",
       "10  [nan, 14.0, 17.0, 5.0, 4.0, 16.0, 15.0, 8.0, 9...  <class 'numpy.float64'>  \n",
       "11  [8370, 15200, 1422, 1057, 7969, 15227, 19215, ...    <class 'numpy.int64'>  "
      ]
     },
     "execution_count": 5,
     "metadata": {},
     "output_type": "execute_result"
    }
   ],
   "source": [
    "data_summary(train_df)"
   ]
  },
  {
   "cell_type": "code",
   "execution_count": 6,
   "metadata": {},
   "outputs": [
    {
     "data": {
      "text/html": [
       "<div>\n",
       "<style scoped>\n",
       "    .dataframe tbody tr th:only-of-type {\n",
       "        vertical-align: middle;\n",
       "    }\n",
       "\n",
       "    .dataframe tbody tr th {\n",
       "        vertical-align: top;\n",
       "    }\n",
       "\n",
       "    .dataframe thead th {\n",
       "        text-align: right;\n",
       "    }\n",
       "</style>\n",
       "<table border=\"1\" class=\"dataframe\">\n",
       "  <thead>\n",
       "    <tr style=\"text-align: right;\">\n",
       "      <th></th>\n",
       "      <th>User_ID</th>\n",
       "      <th>Occupation</th>\n",
       "      <th>Marital_Status</th>\n",
       "      <th>Product_Category_1</th>\n",
       "      <th>Product_Category_2</th>\n",
       "      <th>Product_Category_3</th>\n",
       "      <th>Purchase</th>\n",
       "    </tr>\n",
       "  </thead>\n",
       "  <tbody>\n",
       "    <tr>\n",
       "      <th>count</th>\n",
       "      <td>5.500680e+05</td>\n",
       "      <td>550068.000000</td>\n",
       "      <td>550068.000000</td>\n",
       "      <td>550068.000000</td>\n",
       "      <td>376430.000000</td>\n",
       "      <td>166821.000000</td>\n",
       "      <td>550068.000000</td>\n",
       "    </tr>\n",
       "    <tr>\n",
       "      <th>mean</th>\n",
       "      <td>1.003029e+06</td>\n",
       "      <td>8.076707</td>\n",
       "      <td>0.409653</td>\n",
       "      <td>5.404270</td>\n",
       "      <td>9.842329</td>\n",
       "      <td>12.668243</td>\n",
       "      <td>9263.968713</td>\n",
       "    </tr>\n",
       "    <tr>\n",
       "      <th>std</th>\n",
       "      <td>1.727592e+03</td>\n",
       "      <td>6.522660</td>\n",
       "      <td>0.491770</td>\n",
       "      <td>3.936211</td>\n",
       "      <td>5.086590</td>\n",
       "      <td>4.125338</td>\n",
       "      <td>5023.065394</td>\n",
       "    </tr>\n",
       "    <tr>\n",
       "      <th>min</th>\n",
       "      <td>1.000001e+06</td>\n",
       "      <td>0.000000</td>\n",
       "      <td>0.000000</td>\n",
       "      <td>1.000000</td>\n",
       "      <td>2.000000</td>\n",
       "      <td>3.000000</td>\n",
       "      <td>12.000000</td>\n",
       "    </tr>\n",
       "    <tr>\n",
       "      <th>25%</th>\n",
       "      <td>1.001516e+06</td>\n",
       "      <td>2.000000</td>\n",
       "      <td>0.000000</td>\n",
       "      <td>1.000000</td>\n",
       "      <td>5.000000</td>\n",
       "      <td>9.000000</td>\n",
       "      <td>5823.000000</td>\n",
       "    </tr>\n",
       "    <tr>\n",
       "      <th>50%</th>\n",
       "      <td>1.003077e+06</td>\n",
       "      <td>7.000000</td>\n",
       "      <td>0.000000</td>\n",
       "      <td>5.000000</td>\n",
       "      <td>9.000000</td>\n",
       "      <td>14.000000</td>\n",
       "      <td>8047.000000</td>\n",
       "    </tr>\n",
       "    <tr>\n",
       "      <th>75%</th>\n",
       "      <td>1.004478e+06</td>\n",
       "      <td>14.000000</td>\n",
       "      <td>1.000000</td>\n",
       "      <td>8.000000</td>\n",
       "      <td>15.000000</td>\n",
       "      <td>16.000000</td>\n",
       "      <td>12054.000000</td>\n",
       "    </tr>\n",
       "    <tr>\n",
       "      <th>max</th>\n",
       "      <td>1.006040e+06</td>\n",
       "      <td>20.000000</td>\n",
       "      <td>1.000000</td>\n",
       "      <td>20.000000</td>\n",
       "      <td>18.000000</td>\n",
       "      <td>18.000000</td>\n",
       "      <td>23961.000000</td>\n",
       "    </tr>\n",
       "  </tbody>\n",
       "</table>\n",
       "</div>"
      ],
      "text/plain": [
       "            User_ID     Occupation  Marital_Status  Product_Category_1  \\\n",
       "count  5.500680e+05  550068.000000   550068.000000       550068.000000   \n",
       "mean   1.003029e+06       8.076707        0.409653            5.404270   \n",
       "std    1.727592e+03       6.522660        0.491770            3.936211   \n",
       "min    1.000001e+06       0.000000        0.000000            1.000000   \n",
       "25%    1.001516e+06       2.000000        0.000000            1.000000   \n",
       "50%    1.003077e+06       7.000000        0.000000            5.000000   \n",
       "75%    1.004478e+06      14.000000        1.000000            8.000000   \n",
       "max    1.006040e+06      20.000000        1.000000           20.000000   \n",
       "\n",
       "       Product_Category_2  Product_Category_3       Purchase  \n",
       "count       376430.000000       166821.000000  550068.000000  \n",
       "mean             9.842329           12.668243    9263.968713  \n",
       "std              5.086590            4.125338    5023.065394  \n",
       "min              2.000000            3.000000      12.000000  \n",
       "25%              5.000000            9.000000    5823.000000  \n",
       "50%              9.000000           14.000000    8047.000000  \n",
       "75%             15.000000           16.000000   12054.000000  \n",
       "max             18.000000           18.000000   23961.000000  "
      ]
     },
     "execution_count": 6,
     "metadata": {},
     "output_type": "execute_result"
    }
   ],
   "source": [
    "train_df.describe()"
   ]
  },
  {
   "cell_type": "markdown",
   "metadata": {},
   "source": [
    "**Data Visualizations**"
   ]
  },
  {
   "cell_type": "code",
   "execution_count": 6,
   "metadata": {},
   "outputs": [],
   "source": [
    "def count_purchase(col):\n",
    "    %matplotlib inline\n",
    "    fig, (ax1, ax2) = plt.subplots(nrows=1, ncols=2, figsize = (20, 5))\n",
    "\n",
    "    train_df.groupby([col])['User_ID'].count().sort_values(ascending=False).plot.bar(ax = ax1)\n",
    "    ax1.set_ylabel('Count of distinct customers')\n",
    "    train_df.groupby([col])['Purchase'].sum().sort_values(ascending=False).plot.bar(ax = ax2)\n",
    "    ax2.set_ylabel('Purchase amount')"
   ]
  },
  {
   "cell_type": "markdown",
   "metadata": {},
   "source": [
    "Occupations"
   ]
  },
  {
   "cell_type": "code",
   "execution_count": 8,
   "metadata": {},
   "outputs": [
    {
     "data": {
      "image/png": "[encoded data removed]",
      "text/plain": [
       "<Figure size 1440x360 with 2 Axes>"
      ]
     },
     "metadata": {
      "needs_background": "light"
     },
     "output_type": "display_data"
    }
   ],
   "source": [
    "count_purchase('Occupation')\n",
    "plt.savefig('Occupation.png', dpi=300)"
   ]
  },
  {
   "cell_type": "markdown",
   "metadata": {},
   "source": [
    "Age and Gender"
   ]
  },
  {
   "cell_type": "code",
   "execution_count": 9,
   "metadata": {},
   "outputs": [
    {
     "data": {
      "text/plain": [
       "Text(0, 0.5, 'Purchase $ per person')"
      ]
     },
     "execution_count": 9,
     "metadata": {},
     "output_type": "execute_result"
    },
    {
     "data": {
      "image/png": "[encoded data removed]",
      "text/plain": [
       "<Figure size 1440x360 with 3 Axes>"
      ]
     },
     "metadata": {
      "needs_background": "light"
     },
     "output_type": "display_data"
    }
   ],
   "source": [
    "fig, (ax1, ax2, ax3) = plt.subplots(nrows=1, ncols=3, figsize = (20, 5))\n",
    "\n",
    "t1 = train_df.groupby(['Gender','Age'])['User_ID'].count().unstack(0) # number of customers\n",
    "t1.plot.bar(ax = ax1)\n",
    "ax1.set_ylabel('Count of distinct customers')\n",
    "\n",
    "t2 = train_df.groupby(['Gender','Age'])['Purchase'].sum().unstack(0) # total purchase amount\n",
    "t2.plot.bar(ax = ax2)\n",
    "ax2.set_ylabel('Purchase amount')\n",
    "\n",
    "t3 = pd.merge(t1, t2, left_index = True, right_index = True)\n",
    "t3 = t3.rename(index=str, columns={\"F_x\":\"F_count\", \"M_x\":\"M_count\", \"F_y\":\"F_amt\", \"M_y\":\"M_amt\"})\n",
    "t3['F_amt_per_person'] = t3['F_amt']/t3['F_count']\n",
    "t3['M_amt_per_person'] = t3['M_amt']/t3['M_count']\n",
    "t3[['F_amt_per_person', 'M_amt_per_person']].plot.bar(ax = ax3)\n",
    "ax3.set_ylabel('Purchase $ per person')\n",
    "\n",
    "plt.savefig('Age.png', dpi=300)"
   ]
  },
  {
   "cell_type": "markdown",
   "metadata": {},
   "source": [
    "购买力差不多"
   ]
  },
  {
   "cell_type": "markdown",
   "metadata": {},
   "source": [
    "Marital Status"
   ]
  },
  {
   "cell_type": "code",
   "execution_count": 10,
   "metadata": {
    "scrolled": false
   },
   "outputs": [
    {
     "data": {
      "image/png": "[encoded data removed]",
      "text/plain": [
       "<Figure size 1440x360 with 2 Axes>"
      ]
     },
     "metadata": {
      "needs_background": "light"
     },
     "output_type": "display_data"
    }
   ],
   "source": [
    "count_purchase('Marital_Status')\n",
    "plt.savefig('Marital_Status.png', dpi=300)"
   ]
  },
  {
   "cell_type": "markdown",
   "metadata": {},
   "source": [
    "**Mutual Information**"
   ]
  },
  {
   "cell_type": "code",
   "execution_count": 11,
   "metadata": {},
   "outputs": [
    {
     "name": "stderr",
     "output_type": "stream",
     "text": [
      "/anaconda3/lib/python3.6/site-packages/sklearn/metrics/cluster/supervised.py:844: FutureWarning: The behavior of NMI will change in version 0.22. To match the behavior of 'v_measure_score', NMI will use average_method='arithmetic' by default.\n",
      "  FutureWarning)\n"
     ]
    },
    {
     "data": {
      "text/html": [
       "<div>\n",
       "<style scoped>\n",
       "    .dataframe tbody tr th:only-of-type {\n",
       "        vertical-align: middle;\n",
       "    }\n",
       "\n",
       "    .dataframe tbody tr th {\n",
       "        vertical-align: top;\n",
       "    }\n",
       "\n",
       "    .dataframe thead th {\n",
       "        text-align: right;\n",
       "    }\n",
       "</style>\n",
       "<table border=\"1\" class=\"dataframe\">\n",
       "  <thead>\n",
       "    <tr style=\"text-align: right;\">\n",
       "      <th></th>\n",
       "      <th>columns</th>\n",
       "      <th>MI</th>\n",
       "    </tr>\n",
       "  </thead>\n",
       "  <tbody>\n",
       "    <tr>\n",
       "      <th>10</th>\n",
       "      <td>Product_Category_3</td>\n",
       "      <td>0.682315</td>\n",
       "    </tr>\n",
       "    <tr>\n",
       "      <th>0</th>\n",
       "      <td>User_ID</td>\n",
       "      <td>0.483649</td>\n",
       "    </tr>\n",
       "    <tr>\n",
       "      <th>9</th>\n",
       "      <td>Product_Category_2</td>\n",
       "      <td>0.456969</td>\n",
       "    </tr>\n",
       "    <tr>\n",
       "      <th>1</th>\n",
       "      <td>Product_ID</td>\n",
       "      <td>0.443597</td>\n",
       "    </tr>\n",
       "    <tr>\n",
       "      <th>8</th>\n",
       "      <td>Product_Category_1</td>\n",
       "      <td>0.393285</td>\n",
       "    </tr>\n",
       "    <tr>\n",
       "      <th>4</th>\n",
       "      <td>Occupation</td>\n",
       "      <td>0.055820</td>\n",
       "    </tr>\n",
       "    <tr>\n",
       "      <th>3</th>\n",
       "      <td>Age</td>\n",
       "      <td>0.026489</td>\n",
       "    </tr>\n",
       "    <tr>\n",
       "      <th>6</th>\n",
       "      <td>Stay_In_Current_City_Years</td>\n",
       "      <td>0.018523</td>\n",
       "    </tr>\n",
       "    <tr>\n",
       "      <th>5</th>\n",
       "      <td>City_Category</td>\n",
       "      <td>0.012839</td>\n",
       "    </tr>\n",
       "    <tr>\n",
       "      <th>2</th>\n",
       "      <td>Gender</td>\n",
       "      <td>0.010541</td>\n",
       "    </tr>\n",
       "    <tr>\n",
       "      <th>7</th>\n",
       "      <td>Marital_Status</td>\n",
       "      <td>0.007462</td>\n",
       "    </tr>\n",
       "  </tbody>\n",
       "</table>\n",
       "</div>"
      ],
      "text/plain": [
       "                       columns        MI\n",
       "10          Product_Category_3  0.682315\n",
       "0                      User_ID  0.483649\n",
       "9           Product_Category_2  0.456969\n",
       "1                   Product_ID  0.443597\n",
       "8           Product_Category_1  0.393285\n",
       "4                   Occupation  0.055820\n",
       "3                          Age  0.026489\n",
       "6   Stay_In_Current_City_Years  0.018523\n",
       "5                City_Category  0.012839\n",
       "2                       Gender  0.010541\n",
       "7               Marital_Status  0.007462"
      ]
     },
     "execution_count": 11,
     "metadata": {},
     "output_type": "execute_result"
    }
   ],
   "source": [
    "d = {}\n",
    "mi_lst = []\n",
    "for col in train_df.columns[:-1]:\n",
    "    mi_lst.append(normalized_mutual_info_score(train_df[col], train_df.iloc[:,-1]))\n",
    "\n",
    "d = {'columns': train_df.columns[:-1], 'MI': mi_lst}\n",
    "d_df = pd.DataFrame(d)\n",
    "d_df.sort_values(by = ['MI'], ascending=False)"
   ]
  },
  {
   "cell_type": "markdown",
   "metadata": {},
   "source": [
    "Gender and Marital_Status has the lowest mutual information with our target 'Purchase'."
   ]
  },
  {
   "cell_type": "code",
   "execution_count": 70,
   "metadata": {},
   "outputs": [
    {
     "data": {
      "image/png": "[encoded data removed]",
      "text/plain": [
       "<Figure size 360x360 with 1 Axes>"
      ]
     },
     "metadata": {},
     "output_type": "display_data"
    }
   ],
   "source": [
    "explode = (0.1,0)  \n",
    "fig1, ax1 = plt.subplots(figsize=(5,5))\n",
    "ax1.pie(train_df['Gender'].value_counts(), explode=explode,labels=['Male','Female'], autopct='%1.1f%%',\n",
    "        shadow=True, startangle=90)\n",
    "# Equal aspect ratio ensures that pie is drawn as a circle\n",
    "ax1.axis('equal')  \n",
    "plt.tight_layout()\n",
    "plt.legend()\n",
    "plt.title('Gender distribution')\n",
    "plt.show()"
   ]
  },
  {
   "cell_type": "code",
   "execution_count": 59,
   "metadata": {},
   "outputs": [
    {
     "data": {
      "text/plain": [
       "Text(0.5, 1.0, 'blox plot for gender and purchase')"
      ]
     },
     "execution_count": 59,
     "metadata": {},
     "output_type": "execute_result"
    },
    {
     "data": {
      "text/plain": [
       "<Figure size 864x504 with 0 Axes>"
      ]
     },
     "metadata": {},
     "output_type": "display_data"
    },
    {
     "data": {
      "image/png": "[encoded data removed]",
      "text/plain": [
       "<Figure size 360x360 with 1 Axes>"
      ]
     },
     "metadata": {
      "needs_background": "light"
     },
     "output_type": "display_data"
    }
   ],
   "source": [
    "plt.figure(figsize=(12,7))\n",
    "sns.catplot(x='Gender',y='Purchase', data=train_df,kind='box')\n",
    "plt.title(\"blox plot for gender and purchase\")"
   ]
  },
  {
   "cell_type": "code",
   "execution_count": 62,
   "metadata": {},
   "outputs": [
    {
     "data": {
      "image/png": "[encoded data removed]",
      "text/plain": [
       "<Figure size 360x360 with 1 Axes>"
      ]
     },
     "metadata": {},
     "output_type": "display_data"
    }
   ],
   "source": [
    "explode = (0.1,0)  \n",
    "fig1, ax1 = plt.subplots(figsize=(5,5))\n",
    "ax1.pie(train_df['Marital_Status'].value_counts(), explode=explode,labels=['Unmarried','Married'], autopct='%1.1f%%',\n",
    "        shadow=True, startangle=90)\n",
    "# Equal aspect ratio ensures that pie is drawn as a circle\n",
    "ax1.axis('equal')  \n",
    "plt.tight_layout()\n",
    "plt.legend()\n",
    "#plt.title('Marital status distribution')\n",
    "plt.show()"
   ]
  },
  {
   "cell_type": "code",
   "execution_count": 65,
   "metadata": {},
   "outputs": [],
   "source": [
    "married = np.mean(train_df[train_df.Marital_Status== 1].Purchase)\n",
    "unmarried = np.mean(train_df[train_df.Marital_Status== 0].Purchase)\n",
    "df = pd.DataFrame([married,unmarried])"
   ]
  },
  {
   "cell_type": "code",
   "execution_count": 66,
   "metadata": {
    "scrolled": true
   },
   "outputs": [
    {
     "data": {
      "text/plain": [
       "Text(0.5, 0, 'Marital status')"
      ]
     },
     "execution_count": 66,
     "metadata": {},
     "output_type": "execute_result"
    },
    {
     "data": {
      "image/png": "[encoded data removed]",
      "text/plain": [
       "<Figure size 432x288 with 1 Axes>"
      ]
     },
     "metadata": {
      "needs_background": "light"
     },
     "output_type": "display_data"
    }
   ],
   "source": [
    "from itertools import cycle, islice\n",
    "df = pd.DataFrame({\"married\":[married],\"unmarried\":[unmarried]})\n",
    "my_colors = list(islice(cycle(['b', 'r', 'g', 'y', 'k']), None, len(df)))\n",
    "ax = df.plot.bar()\n",
    "ax.set_ylabel('Avearge Purchase amount')\n",
    "ax.set_xlabel('Marital status')"
   ]
  },
  {
   "cell_type": "code",
   "execution_count": 67,
   "metadata": {},
   "outputs": [
    {
     "data": {
      "text/plain": [
       "Text(0.5, 0, 'Marital status')"
      ]
     },
     "execution_count": 67,
     "metadata": {},
     "output_type": "execute_result"
    },
    {
     "data": {
      "image/png": "[encoded data removed]",
      "text/plain": [
       "<Figure size 432x288 with 1 Axes>"
      ]
     },
     "metadata": {
      "needs_background": "light"
     },
     "output_type": "display_data"
    }
   ],
   "source": [
    "df = pd.DataFrame({'marital status':['married', 'unmarried'], 'average purchase per transaction':[married,unmarried]})\n",
    "ax = df.plot.bar(x='marital status', y='average purchase per transaction',legend=False)\n",
    "ax.set_ylabel('Avearge Purchase amount')\n",
    "ax.set_xlabel('Marital status')"
   ]
  },
  {
   "cell_type": "code",
   "execution_count": 69,
   "metadata": {},
   "outputs": [
    {
     "data": {
      "image/png": "[encoded data removed]",
      "text/plain": [
       "<Figure size 360x360 with 1 Axes>"
      ]
     },
     "metadata": {},
     "output_type": "display_data"
    }
   ],
   "source": [
    "explode = (0.1, 0, 0)\n",
    "fig1, ax1 = plt.subplots(figsize=(5,5))\n",
    "ax1.pie(train_df.groupby('City_Category')['Purchase'].sum(),explode=explode, labels=train_df['City_Category'].unique(), autopct='%1.1f%%',\n",
    "        shadow=True, startangle=90)\n",
    "# Equal aspect ratio ensures that pie is drawn as a circle\n",
    "ax1.axis('equal') \n",
    "plt.title(\"Purchase amount categorized by city \")\n",
    "plt.tight_layout()\n",
    "plt.legend()\n",
    "plt.show()"
   ]
  },
  {
   "cell_type": "code",
   "execution_count": 71,
   "metadata": {},
   "outputs": [
    {
     "data": {
      "text/plain": [
       "<matplotlib.axes._subplots.AxesSubplot at 0x11b392400>"
      ]
     },
     "execution_count": 71,
     "metadata": {},
     "output_type": "execute_result"
    },
    {
     "data": {
      "image/png": "[encoded data removed]",
      "text/plain": [
       "<Figure size 360x360 with 1 Axes>"
      ]
     },
     "metadata": {
      "needs_background": "light"
     },
     "output_type": "display_data"
    }
   ],
   "source": [
    "fig1, ax1 = plt.subplots(figsize=(5,5))\n",
    "sns.countplot(train_df['City_Category'])"
   ]
  },
  {
   "cell_type": "code",
   "execution_count": 74,
   "metadata": {},
   "outputs": [
    {
     "data": {
      "text/plain": [
       "Text(0.5, 1.0, 'Number of transactions in different cities')"
      ]
     },
     "execution_count": 74,
     "metadata": {},
     "output_type": "execute_result"
    },
    {
     "data": {
      "image/png": "[encoded data removed]",
      "text/plain": [
       "<Figure size 720x360 with 1 Axes>"
      ]
     },
     "metadata": {
      "needs_background": "light"
     },
     "output_type": "display_data"
    }
   ],
   "source": [
    "fig1, ax1 = plt.subplots(figsize=(10,5))\n",
    "sns.countplot(train_df['City_Category'],hue=train_df['Age'])\n",
    "plt.title (\"Number of transactions in different cities\")"
   ]
  },
  {
   "cell_type": "code",
   "execution_count": 77,
   "metadata": {},
   "outputs": [
    {
     "data": {
      "image/png": "[encoded data removed]",
      "text/plain": [
       "<Figure size 504x288 with 1 Axes>"
      ]
     },
     "metadata": {},
     "output_type": "display_data"
    }
   ],
   "source": [
    "labels=['One Year','Two Years','Three Years','More Than Four Years','0 years']\n",
    "explode = (0.1, 0.1,0,0,0)\n",
    "fig1, ax1 = plt.subplots(figsize=(7,4))\n",
    "ax1.pie(train_df.groupby('Stay_In_Current_City_Years')['Purchase'].sum(),explode=explode, labels=labels, autopct='%1.1f%%',\n",
    "        shadow=True, startangle=90)\n",
    "# Equal aspect ratio ensures that pie is drawn as a circle\n",
    "ax1.axis('equal')  \n",
    "plt.tight_layout()\n",
    "plt.legend()\n",
    "plt.title(\"purchase amount\")\n",
    "plt.show()"
   ]
  },
  {
   "cell_type": "code",
   "execution_count": 78,
   "metadata": {},
   "outputs": [
    {
     "name": "stderr",
     "output_type": "stream",
     "text": [
      "/anaconda3/lib/python3.6/site-packages/ipykernel_launcher.py:2: VisibleDeprecationWarning: Passing `normed=True` on non-uniform bins has always been broken, and computes neither the probability density function nor the probability mass function. The result is only correct if the bins are uniform, when density=True will produce the same result anyway. The argument will be removed in a future version of numpy.\n",
      "  \n"
     ]
    },
    {
     "data": {
      "image/png": "[encoded data removed]",
      "text/plain": [
       "<Figure size 432x288 with 1 Axes>"
      ]
     },
     "metadata": {
      "needs_background": "light"
     },
     "output_type": "display_data"
    }
   ],
   "source": [
    "#np.histogram(train_df.Purchase)\n",
    "results, edges = np.histogram(train_df.Purchase, 40,normed = True)\n",
    "binWidth = edges[1] - edges[0]\n",
    "plt.bar(edges[:-1], results*binWidth, binWidth)\n",
    "plt.ylabel('Probability')\n",
    "plt.xlabel('purchase amount')\n",
    "\n",
    "\n",
    "plt.grid(True)"
   ]
  },
  {
   "cell_type": "code",
   "execution_count": 79,
   "metadata": {},
   "outputs": [
    {
     "data": {
      "text/plain": [
       "Text(0.5, 1.0, 'blox plot for purchase amount')"
      ]
     },
     "execution_count": 79,
     "metadata": {},
     "output_type": "execute_result"
    },
    {
     "data": {
      "text/plain": [
       "<Figure size 144x216 with 0 Axes>"
      ]
     },
     "metadata": {},
     "output_type": "display_data"
    },
    {
     "data": {
      "image/png": "[encoded data removed]",
      "text/plain": [
       "<Figure size 360x360 with 1 Axes>"
      ]
     },
     "metadata": {
      "needs_background": "light"
     },
     "output_type": "display_data"
    }
   ],
   "source": [
    "plt.figure(figsize=(2,3))\n",
    "sns.catplot(y='Purchase', data=train_df,kind='box')\n",
    "plt.title(\"blox plot for purchase amount\")"
   ]
  },
  {
   "cell_type": "markdown",
   "metadata": {},
   "source": [
    "### Data Cleaning"
   ]
  },
  {
   "cell_type": "code",
   "execution_count": 7,
   "metadata": {},
   "outputs": [],
   "source": [
    "train_new = train_df.copy()"
   ]
  },
  {
   "cell_type": "code",
   "execution_count": 8,
   "metadata": {},
   "outputs": [],
   "source": [
    "def train_test(data, test_size):\n",
    "    test_index = np.random.choice(data.index, size=int(data.shape[0]*test_size), replace=False)\n",
    "    train_index =  list(set(data.index) - set(test_index))\n",
    "    \n",
    "    train = data.iloc[train_index]\n",
    "    test = data.iloc[test_index]\n",
    "    return(train,test)"
   ]
  },
  {
   "cell_type": "code",
   "execution_count": 9,
   "metadata": {},
   "outputs": [],
   "source": [
    "train, test  = train_test(train_df, test_size = 0.1)"
   ]
  },
  {
   "cell_type": "code",
   "execution_count": 10,
   "metadata": {},
   "outputs": [],
   "source": [
    "# 1. Transform 'Product_ID'\n",
    "### fill in Product_Count\n",
    "d_count = Counter(train_df['Product_ID'].tolist()) # dictionary of 'Product_ID': count\n",
    "\n",
    "def count_id(ID):\n",
    "    '''\n",
    "    fill Product_Count with the number of product for that Product_ID\n",
    "    '''\n",
    "    if ID in d_count:\n",
    "        return d_count[ID]\n",
    "    else:\n",
    "        return 0 # if not exist in d_count, fill with 0\n",
    "\n",
    "### Fill in Product_Mean\n",
    "temp = train_df.groupby('Product_ID')['Purchase'].mean()\n",
    "d_purchase = dict(zip(temp.index.tolist(), temp.values.tolist())) # dictionary of 'Product_ID': count\n",
    "\n",
    "def amount_id(ID):\n",
    "    '''\n",
    "    fill Product_Mean with the mean dollar value of product for that Product_ID\n",
    "    '''\n",
    "    if ID in d_purchase:\n",
    "        return d_purchase[ID]\n",
    "    else:\n",
    "        return np.mean(list(d_purchase.values())) # if not exist in d_purchase, fill with mean value"
   ]
  },
  {
   "cell_type": "code",
   "execution_count": 11,
   "metadata": {},
   "outputs": [],
   "source": [
    "def transform(data, convert_category = False):\n",
    "    '''\n",
    "    To transform the training and testing data for use\n",
    "    arg:\n",
    "        data (the dataframe you want to transform)\n",
    "    '''\n",
    "    data_ready = data.copy()\n",
    "    \n",
    "    # 1. Transform 'Product_ID'\n",
    "    ## add two empty columns to dataframe\n",
    "    data_ready = data_ready.assign(Product_Mean=np.nan,Product_Count=np.nan)\n",
    "    \n",
    "    ### fill in Product_Count\n",
    "    data_ready['Product_Count'] = data_ready['Product_ID'].apply(count_id)\n",
    "    \n",
    "    ### Fill in Product_Mean\n",
    "    data_ready['Product_Mean'] = data_ready['Product_ID'].apply(amount_id)\n",
    "       \n",
    "    \n",
    "    # 2. Convert(encode) nominal variables\n",
    "    genders = pd.get_dummies(data_ready['Gender'], drop_first = True, prefix = 'Gender')\n",
    "    data_ready = pd.merge(data_ready, genders, left_index=True, right_index = True)\n",
    "\n",
    "    occupations = pd.get_dummies(data_ready['Occupation'], drop_first = True, prefix = 'Occupation')\n",
    "    data_ready = pd.merge(data_ready, occupations, left_index=True, right_index = True)\n",
    "\n",
    "    cities = pd.get_dummies(data_ready['City_Category'], drop_first = True, prefix = 'City_Category')\n",
    "    data_ready = pd.merge(data_ready, cities, left_index=True, right_index = True)\n",
    "\n",
    "    maritial = pd.get_dummies(data_ready['Marital_Status'], drop_first = True, prefix = 'Marital_Status')\n",
    "    data_ready = pd.merge(data_ready, maritial, left_index=True, right_index = True)\n",
    "    \n",
    "    \n",
    "    # 3. Convert ordinal variables\n",
    "    ## 'Age':\n",
    "    age_dict={}\n",
    "    for (i,u) in enumerate(['0-17', '18-25', '26-35', '36-45', '46-50', '51-55', '55+']):\n",
    "        age_dict[u] = i\n",
    "\n",
    "    ## 'Stay_In_Current_City_Years':\n",
    "    years_dict = {}\n",
    "    for (i,u) in enumerate(['0', '1', '2', '3', '4+']):\n",
    "        years_dict[u] = i\n",
    "        \n",
    "    data_ready['Age'] = data_ready['Age'].map(age_dict)\n",
    "    data_ready['Stay_In_Current_City_Years'] = data_ready['Stay_In_Current_City_Years'].map(years_dict)\n",
    "    \n",
    "    \n",
    "    \n",
    "    # 4. Convert Product_Category\n",
    "    if convert_category == False:\n",
    "        ## do not convert category data (e.g. tree models)\n",
    "        ## fill all empty cells with category 0\n",
    "        data_ready[['Product_Category_1', 'Product_Category_2', \n",
    "                   'Product_Category_3']]=data_ready[['Product_Category_1', \n",
    "                                                     'Product_Category_2', 'Product_Category_3']].fillna(0)\n",
    "        \n",
    "    else:\n",
    "        ## convert category data\n",
    "        data_ready.Product_Category_1 = data_ready.Product_Category_1.astype(float)\n",
    "        t1 = pd.get_dummies(data_ready['Product_Category_1'], drop_first = True)\n",
    "        t2 = pd.get_dummies(data_ready['Product_Category_2'])\n",
    "        t3 = pd.get_dummies(data_ready['Product_Category_3'])\n",
    "        t = t1.add(t2,fill_value=0) \n",
    "        t = t.add(t3,fill_value=0).astype(int)\n",
    "        \n",
    "        pc = ['Product_Category' + str(i) for i in range(2,21)]\n",
    "        cols = dict(zip(np.array(range(2,21)).astype(float), pc))\n",
    "        t = t.rename(columns=cols)\n",
    "        data_ready = pd.merge(data_ready, t,left_index=True, right_index = True)\n",
    "        \n",
    "    # 5. Drop unnecessary columns\n",
    "    if convert_category == False:\n",
    "        data_ready = data_ready.drop(['User_ID', 'Product_ID', 'Gender', 'Age', 'Occupation', \n",
    "                                  'City_Category', 'Stay_In_Current_City_Years','Marital_Status'], axis = 1)\n",
    "    else:\n",
    "        data_ready = data_ready.drop(['User_ID', 'Product_ID', 'Gender', 'Age', 'Occupation', \n",
    "                                  'City_Category', 'Stay_In_Current_City_Years','Marital_Status',\n",
    "                                  'Product_Category_1', 'Product_Category_2', 'Product_Category_3'], axis = 1)\n",
    "    \n",
    "    # reset indexes to be continuous\n",
    "    data_ready = data_ready.reset_index(drop=True)\n",
    "    \n",
    "    return data_ready"
   ]
  },
  {
   "cell_type": "markdown",
   "metadata": {},
   "source": [
    "Product ID"
   ]
  },
  {
   "cell_type": "code",
   "execution_count": 334,
   "metadata": {},
   "outputs": [
    {
     "data": {
      "text/plain": [
       "3631"
      ]
     },
     "execution_count": 334,
     "metadata": {},
     "output_type": "execute_result"
    }
   ],
   "source": [
    "train_df['Product_ID'].nunique()"
   ]
  },
  {
   "cell_type": "markdown",
   "metadata": {},
   "source": [
    "- Product ID has one of the most mutual information with our target values - 'purchase'.\n",
    "- There are 3631 unique 'Product_ID' in the dataset. Thus, one-hot encoding is not an option.\n",
    "- Information that 'Product_ID' represents:\n",
    "    - the mean (average) values of this kind of product\n",
    "    - how many of this kind of products do people buy\n",
    "- Thus, we can convert 'Product_ID' into two different columns: 'Product_Mean' (average $ value of this kind of product) and 'Product_Count' (total amount of this kind of products people buy)"
   ]
  },
  {
   "cell_type": "markdown",
   "metadata": {},
   "source": [
    "**Correlations**"
   ]
  },
  {
   "cell_type": "code",
   "execution_count": 17,
   "metadata": {
    "scrolled": true
   },
   "outputs": [
    {
     "data": {
      "text/html": [
       "<style  type=\"text/css\" >\n",
       "    #T_415c6136_f919_11e8_9b73_784f4392a58frow0_col0 {\n",
       "            background-color:  #023858;\n",
       "        }    #T_415c6136_f919_11e8_9b73_784f4392a58frow0_col1 {\n",
       "            background-color:  #fbf4f9;\n",
       "        }    #T_415c6136_f919_11e8_9b73_784f4392a58frow0_col2 {\n",
       "            background-color:  #fcf4fa;\n",
       "        }    #T_415c6136_f919_11e8_9b73_784f4392a58frow1_col0 {\n",
       "            background-color:  #fff7fb;\n",
       "        }    #T_415c6136_f919_11e8_9b73_784f4392a58frow1_col1 {\n",
       "            background-color:  #023858;\n",
       "        }    #T_415c6136_f919_11e8_9b73_784f4392a58frow1_col2 {\n",
       "            background-color:  #fff7fb;\n",
       "        }    #T_415c6136_f919_11e8_9b73_784f4392a58frow2_col0 {\n",
       "            background-color:  #fff7fb;\n",
       "        }    #T_415c6136_f919_11e8_9b73_784f4392a58frow2_col1 {\n",
       "            background-color:  #fff7fb;\n",
       "        }    #T_415c6136_f919_11e8_9b73_784f4392a58frow2_col2 {\n",
       "            background-color:  #023858;\n",
       "        }</style>  \n",
       "<table id=\"T_415c6136_f919_11e8_9b73_784f4392a58f\" > \n",
       "<thead>    <tr> \n",
       "        <th class=\"blank level0\" ></th> \n",
       "        <th class=\"col_heading level0 col0\" >Occupation</th> \n",
       "        <th class=\"col_heading level0 col1\" >Marital_Status</th> \n",
       "        <th class=\"col_heading level0 col2\" >Purchase</th> \n",
       "    </tr></thead> \n",
       "<tbody>    <tr> \n",
       "        <th id=\"T_415c6136_f919_11e8_9b73_784f4392a58flevel0_row0\" class=\"row_heading level0 row0\" >Occupation</th> \n",
       "        <td id=\"T_415c6136_f919_11e8_9b73_784f4392a58frow0_col0\" class=\"data row0 col0\" >1</td> \n",
       "        <td id=\"T_415c6136_f919_11e8_9b73_784f4392a58frow0_col1\" class=\"data row0 col1\" >0.024</td> \n",
       "        <td id=\"T_415c6136_f919_11e8_9b73_784f4392a58frow0_col2\" class=\"data row0 col2\" >0.021</td> \n",
       "    </tr>    <tr> \n",
       "        <th id=\"T_415c6136_f919_11e8_9b73_784f4392a58flevel0_row1\" class=\"row_heading level0 row1\" >Marital_Status</th> \n",
       "        <td id=\"T_415c6136_f919_11e8_9b73_784f4392a58frow1_col0\" class=\"data row1 col0\" >0.024</td> \n",
       "        <td id=\"T_415c6136_f919_11e8_9b73_784f4392a58frow1_col1\" class=\"data row1 col1\" >1</td> \n",
       "        <td id=\"T_415c6136_f919_11e8_9b73_784f4392a58frow1_col2\" class=\"data row1 col2\" >-0.00046</td> \n",
       "    </tr>    <tr> \n",
       "        <th id=\"T_415c6136_f919_11e8_9b73_784f4392a58flevel0_row2\" class=\"row_heading level0 row2\" >Purchase</th> \n",
       "        <td id=\"T_415c6136_f919_11e8_9b73_784f4392a58frow2_col0\" class=\"data row2 col0\" >0.021</td> \n",
       "        <td id=\"T_415c6136_f919_11e8_9b73_784f4392a58frow2_col1\" class=\"data row2 col1\" >-0.00046</td> \n",
       "        <td id=\"T_415c6136_f919_11e8_9b73_784f4392a58frow2_col2\" class=\"data row2 col2\" >1</td> \n",
       "    </tr></tbody> \n",
       "</table> "
      ],
      "text/plain": [
       "<pandas.io.formats.style.Styler at 0x109c8a5f8>"
      ]
     },
     "execution_count": 17,
     "metadata": {},
     "output_type": "execute_result"
    }
   ],
   "source": [
    "d = train_new[['Gender','Age','Occupation','City_Category',\n",
    "     'Stay_In_Current_City_Years','Marital_Status','Purchase']].corr()\n",
    "d.style.background_gradient().set_precision(2)\n",
    "\n",
    "plt.savefig('correlation.png', dpi=300)"
   ]
  },
  {
   "cell_type": "markdown",
   "metadata": {},
   "source": [
    "**Drop unnecessary columns**"
   ]
  },
  {
   "cell_type": "markdown",
   "metadata": {},
   "source": [
    "**Check out the data-cleaning results**"
   ]
  },
  {
   "cell_type": "code",
   "execution_count": 352,
   "metadata": {},
   "outputs": [
    {
     "data": {
      "text/html": [
       "<div>\n",
       "<style>\n",
       "    .dataframe thead tr:only-child th {\n",
       "        text-align: right;\n",
       "    }\n",
       "\n",
       "    .dataframe thead th {\n",
       "        text-align: left;\n",
       "    }\n",
       "\n",
       "    .dataframe tbody tr th {\n",
       "        vertical-align: top;\n",
       "    }\n",
       "</style>\n",
       "<table border=\"1\" class=\"dataframe\">\n",
       "  <thead>\n",
       "    <tr style=\"text-align: right;\">\n",
       "      <th></th>\n",
       "      <th>0</th>\n",
       "      <th>1</th>\n",
       "      <th>2</th>\n",
       "      <th>3</th>\n",
       "      <th>4</th>\n",
       "      <th>5</th>\n",
       "      <th>6</th>\n",
       "      <th>7</th>\n",
       "      <th>8</th>\n",
       "      <th>9</th>\n",
       "      <th>...</th>\n",
       "      <th>45</th>\n",
       "      <th>46</th>\n",
       "      <th>47</th>\n",
       "      <th>48</th>\n",
       "      <th>49</th>\n",
       "      <th>50</th>\n",
       "      <th>51</th>\n",
       "      <th>52</th>\n",
       "      <th>53</th>\n",
       "      <th>54</th>\n",
       "    </tr>\n",
       "  </thead>\n",
       "  <tbody>\n",
       "    <tr>\n",
       "      <th>columns</th>\n",
       "      <td>User_ID</td>\n",
       "      <td>Purchase</td>\n",
       "      <td>Gender_M</td>\n",
       "      <td>Occupation_1</td>\n",
       "      <td>Occupation_2</td>\n",
       "      <td>Occupation_3</td>\n",
       "      <td>Occupation_4</td>\n",
       "      <td>Occupation_5</td>\n",
       "      <td>Occupation_6</td>\n",
       "      <td>Occupation_7</td>\n",
       "      <td>...</td>\n",
       "      <td>Product_Category_11</td>\n",
       "      <td>Product_Category_12</td>\n",
       "      <td>Product_Category_13</td>\n",
       "      <td>Product_Category_14</td>\n",
       "      <td>Product_Category_15</td>\n",
       "      <td>Product_Category_16</td>\n",
       "      <td>Product_Category_17</td>\n",
       "      <td>Product_Category_18</td>\n",
       "      <td>Product_Category_19</td>\n",
       "      <td>Product_Category_20</td>\n",
       "    </tr>\n",
       "    <tr>\n",
       "      <th>data_type</th>\n",
       "      <td>&lt;class 'numpy.int64'&gt;</td>\n",
       "      <td>&lt;class 'numpy.int64'&gt;</td>\n",
       "      <td>&lt;class 'numpy.uint8'&gt;</td>\n",
       "      <td>&lt;class 'numpy.uint8'&gt;</td>\n",
       "      <td>&lt;class 'numpy.uint8'&gt;</td>\n",
       "      <td>&lt;class 'numpy.uint8'&gt;</td>\n",
       "      <td>&lt;class 'numpy.uint8'&gt;</td>\n",
       "      <td>&lt;class 'numpy.uint8'&gt;</td>\n",
       "      <td>&lt;class 'numpy.uint8'&gt;</td>\n",
       "      <td>&lt;class 'numpy.uint8'&gt;</td>\n",
       "      <td>...</td>\n",
       "      <td>&lt;class 'numpy.uint8'&gt;</td>\n",
       "      <td>&lt;class 'numpy.uint8'&gt;</td>\n",
       "      <td>&lt;class 'numpy.uint8'&gt;</td>\n",
       "      <td>&lt;class 'numpy.uint8'&gt;</td>\n",
       "      <td>&lt;class 'numpy.uint8'&gt;</td>\n",
       "      <td>&lt;class 'numpy.uint8'&gt;</td>\n",
       "      <td>&lt;class 'numpy.uint8'&gt;</td>\n",
       "      <td>&lt;class 'numpy.uint8'&gt;</td>\n",
       "      <td>&lt;class 'numpy.int64'&gt;</td>\n",
       "      <td>&lt;class 'numpy.int64'&gt;</td>\n",
       "    </tr>\n",
       "    <tr>\n",
       "      <th>distinct_val</th>\n",
       "      <td>[1000001, 1000002, 1000003, 1000004, 1000005, ...</td>\n",
       "      <td>[8370, 15200, 1422, 1057, 7969, 15227, 19215, ...</td>\n",
       "      <td>[0, 1]</td>\n",
       "      <td>[0, 1]</td>\n",
       "      <td>[0, 1]</td>\n",
       "      <td>[0, 1]</td>\n",
       "      <td>[0, 1]</td>\n",
       "      <td>[0, 1]</td>\n",
       "      <td>[0, 1]</td>\n",
       "      <td>[0, 1]</td>\n",
       "      <td>...</td>\n",
       "      <td>[0, 1]</td>\n",
       "      <td>[0, 1]</td>\n",
       "      <td>[0, 1]</td>\n",
       "      <td>[0, 1]</td>\n",
       "      <td>[0, 1]</td>\n",
       "      <td>[0, 1]</td>\n",
       "      <td>[0, 1]</td>\n",
       "      <td>[0, 1]</td>\n",
       "      <td>[0, 1]</td>\n",
       "      <td>[0, 1]</td>\n",
       "    </tr>\n",
       "    <tr>\n",
       "      <th>number_distinct</th>\n",
       "      <td>5891</td>\n",
       "      <td>18105</td>\n",
       "      <td>2</td>\n",
       "      <td>2</td>\n",
       "      <td>2</td>\n",
       "      <td>2</td>\n",
       "      <td>2</td>\n",
       "      <td>2</td>\n",
       "      <td>2</td>\n",
       "      <td>2</td>\n",
       "      <td>...</td>\n",
       "      <td>2</td>\n",
       "      <td>2</td>\n",
       "      <td>2</td>\n",
       "      <td>2</td>\n",
       "      <td>2</td>\n",
       "      <td>2</td>\n",
       "      <td>2</td>\n",
       "      <td>2</td>\n",
       "      <td>2</td>\n",
       "      <td>2</td>\n",
       "    </tr>\n",
       "    <tr>\n",
       "      <th>number_nan</th>\n",
       "      <td>0</td>\n",
       "      <td>0</td>\n",
       "      <td>0</td>\n",
       "      <td>0</td>\n",
       "      <td>0</td>\n",
       "      <td>0</td>\n",
       "      <td>0</td>\n",
       "      <td>0</td>\n",
       "      <td>0</td>\n",
       "      <td>0</td>\n",
       "      <td>...</td>\n",
       "      <td>0</td>\n",
       "      <td>0</td>\n",
       "      <td>0</td>\n",
       "      <td>0</td>\n",
       "      <td>0</td>\n",
       "      <td>0</td>\n",
       "      <td>0</td>\n",
       "      <td>0</td>\n",
       "      <td>0</td>\n",
       "      <td>0</td>\n",
       "    </tr>\n",
       "  </tbody>\n",
       "</table>\n",
       "<p>5 rows × 55 columns</p>\n",
       "</div>"
      ],
      "text/plain": [
       "                                                                0   \\\n",
       "columns                                                    User_ID   \n",
       "data_type                                    <class 'numpy.int64'>   \n",
       "distinct_val     [1000001, 1000002, 1000003, 1000004, 1000005, ...   \n",
       "number_distinct                                               5891   \n",
       "number_nan                                                       0   \n",
       "\n",
       "                                                                1   \\\n",
       "columns                                                   Purchase   \n",
       "data_type                                    <class 'numpy.int64'>   \n",
       "distinct_val     [8370, 15200, 1422, 1057, 7969, 15227, 19215, ...   \n",
       "number_distinct                                              18105   \n",
       "number_nan                                                       0   \n",
       "\n",
       "                                    2                      3   \\\n",
       "columns                       Gender_M           Occupation_1   \n",
       "data_type        <class 'numpy.uint8'>  <class 'numpy.uint8'>   \n",
       "distinct_val                    [0, 1]                 [0, 1]   \n",
       "number_distinct                      2                      2   \n",
       "number_nan                           0                      0   \n",
       "\n",
       "                                    4                      5   \\\n",
       "columns                   Occupation_2           Occupation_3   \n",
       "data_type        <class 'numpy.uint8'>  <class 'numpy.uint8'>   \n",
       "distinct_val                    [0, 1]                 [0, 1]   \n",
       "number_distinct                      2                      2   \n",
       "number_nan                           0                      0   \n",
       "\n",
       "                                    6                      7   \\\n",
       "columns                   Occupation_4           Occupation_5   \n",
       "data_type        <class 'numpy.uint8'>  <class 'numpy.uint8'>   \n",
       "distinct_val                    [0, 1]                 [0, 1]   \n",
       "number_distinct                      2                      2   \n",
       "number_nan                           0                      0   \n",
       "\n",
       "                                    8                      9   \\\n",
       "columns                   Occupation_6           Occupation_7   \n",
       "data_type        <class 'numpy.uint8'>  <class 'numpy.uint8'>   \n",
       "distinct_val                    [0, 1]                 [0, 1]   \n",
       "number_distinct                      2                      2   \n",
       "number_nan                           0                      0   \n",
       "\n",
       "                         ...                               45  \\\n",
       "columns                  ...              Product_Category_11   \n",
       "data_type                ...            <class 'numpy.uint8'>   \n",
       "distinct_val             ...                           [0, 1]   \n",
       "number_distinct          ...                                2   \n",
       "number_nan               ...                                0   \n",
       "\n",
       "                                    46                     47  \\\n",
       "columns            Product_Category_12    Product_Category_13   \n",
       "data_type        <class 'numpy.uint8'>  <class 'numpy.uint8'>   \n",
       "distinct_val                    [0, 1]                 [0, 1]   \n",
       "number_distinct                      2                      2   \n",
       "number_nan                           0                      0   \n",
       "\n",
       "                                    48                     49  \\\n",
       "columns            Product_Category_14    Product_Category_15   \n",
       "data_type        <class 'numpy.uint8'>  <class 'numpy.uint8'>   \n",
       "distinct_val                    [0, 1]                 [0, 1]   \n",
       "number_distinct                      2                      2   \n",
       "number_nan                           0                      0   \n",
       "\n",
       "                                    50                     51  \\\n",
       "columns            Product_Category_16    Product_Category_17   \n",
       "data_type        <class 'numpy.uint8'>  <class 'numpy.uint8'>   \n",
       "distinct_val                    [0, 1]                 [0, 1]   \n",
       "number_distinct                      2                      2   \n",
       "number_nan                           0                      0   \n",
       "\n",
       "                                    52                     53  \\\n",
       "columns            Product_Category_18    Product_Category_19   \n",
       "data_type        <class 'numpy.uint8'>  <class 'numpy.int64'>   \n",
       "distinct_val                    [0, 1]                 [0, 1]   \n",
       "number_distinct                      2                      2   \n",
       "number_nan                           0                      0   \n",
       "\n",
       "                                    54  \n",
       "columns            Product_Category_20  \n",
       "data_type        <class 'numpy.int64'>  \n",
       "distinct_val                    [0, 1]  \n",
       "number_distinct                      2  \n",
       "number_nan                           0  \n",
       "\n",
       "[5 rows x 55 columns]"
      ]
     },
     "execution_count": 352,
     "metadata": {},
     "output_type": "execute_result"
    }
   ],
   "source": [
    "data_summary(train_new).T"
   ]
  },
  {
   "cell_type": "code",
   "execution_count": 353,
   "metadata": {},
   "outputs": [
    {
     "data": {
      "text/html": [
       "<div>\n",
       "<style>\n",
       "    .dataframe thead tr:only-child th {\n",
       "        text-align: right;\n",
       "    }\n",
       "\n",
       "    .dataframe thead th {\n",
       "        text-align: left;\n",
       "    }\n",
       "\n",
       "    .dataframe tbody tr th {\n",
       "        vertical-align: top;\n",
       "    }\n",
       "</style>\n",
       "<table border=\"1\" class=\"dataframe\">\n",
       "  <thead>\n",
       "    <tr style=\"text-align: right;\">\n",
       "      <th></th>\n",
       "      <th>User_ID</th>\n",
       "      <th>Purchase</th>\n",
       "      <th>Gender_M</th>\n",
       "      <th>Occupation_1</th>\n",
       "      <th>Occupation_2</th>\n",
       "      <th>Occupation_3</th>\n",
       "      <th>Occupation_4</th>\n",
       "      <th>Occupation_5</th>\n",
       "      <th>Occupation_6</th>\n",
       "      <th>Occupation_7</th>\n",
       "      <th>...</th>\n",
       "      <th>Product_Category_11</th>\n",
       "      <th>Product_Category_12</th>\n",
       "      <th>Product_Category_13</th>\n",
       "      <th>Product_Category_14</th>\n",
       "      <th>Product_Category_15</th>\n",
       "      <th>Product_Category_16</th>\n",
       "      <th>Product_Category_17</th>\n",
       "      <th>Product_Category_18</th>\n",
       "      <th>Product_Category_19</th>\n",
       "      <th>Product_Category_20</th>\n",
       "    </tr>\n",
       "  </thead>\n",
       "  <tbody>\n",
       "    <tr>\n",
       "      <th>count</th>\n",
       "      <td>5.500680e+05</td>\n",
       "      <td>550068.000000</td>\n",
       "      <td>550068.000000</td>\n",
       "      <td>550068.000000</td>\n",
       "      <td>550068.000000</td>\n",
       "      <td>550068.000000</td>\n",
       "      <td>550068.000000</td>\n",
       "      <td>550068.000000</td>\n",
       "      <td>550068.000000</td>\n",
       "      <td>550068.000000</td>\n",
       "      <td>...</td>\n",
       "      <td>550068.000000</td>\n",
       "      <td>550068.000000</td>\n",
       "      <td>550068.000000</td>\n",
       "      <td>550068.000000</td>\n",
       "      <td>550068.000000</td>\n",
       "      <td>550068.000000</td>\n",
       "      <td>550068.000000</td>\n",
       "      <td>550068.000000</td>\n",
       "      <td>550068.000000</td>\n",
       "      <td>550068.000000</td>\n",
       "    </tr>\n",
       "    <tr>\n",
       "      <th>mean</th>\n",
       "      <td>1.003029e+06</td>\n",
       "      <td>9263.968713</td>\n",
       "      <td>0.753105</td>\n",
       "      <td>0.086218</td>\n",
       "      <td>0.048336</td>\n",
       "      <td>0.032087</td>\n",
       "      <td>0.131453</td>\n",
       "      <td>0.022137</td>\n",
       "      <td>0.037005</td>\n",
       "      <td>0.107501</td>\n",
       "      <td>...</td>\n",
       "      <td>0.073129</td>\n",
       "      <td>0.034034</td>\n",
       "      <td>0.039157</td>\n",
       "      <td>0.136454</td>\n",
       "      <td>0.131180</td>\n",
       "      <td>0.155833</td>\n",
       "      <td>0.055629</td>\n",
       "      <td>0.019132</td>\n",
       "      <td>0.002914</td>\n",
       "      <td>0.004636</td>\n",
       "    </tr>\n",
       "    <tr>\n",
       "      <th>std</th>\n",
       "      <td>1.727592e+03</td>\n",
       "      <td>5023.065394</td>\n",
       "      <td>0.431205</td>\n",
       "      <td>0.280687</td>\n",
       "      <td>0.214475</td>\n",
       "      <td>0.176231</td>\n",
       "      <td>0.337895</td>\n",
       "      <td>0.147130</td>\n",
       "      <td>0.188773</td>\n",
       "      <td>0.309750</td>\n",
       "      <td>...</td>\n",
       "      <td>0.260349</td>\n",
       "      <td>0.181317</td>\n",
       "      <td>0.193968</td>\n",
       "      <td>0.343270</td>\n",
       "      <td>0.337598</td>\n",
       "      <td>0.362698</td>\n",
       "      <td>0.229205</td>\n",
       "      <td>0.136990</td>\n",
       "      <td>0.053905</td>\n",
       "      <td>0.067929</td>\n",
       "    </tr>\n",
       "    <tr>\n",
       "      <th>min</th>\n",
       "      <td>1.000001e+06</td>\n",
       "      <td>12.000000</td>\n",
       "      <td>0.000000</td>\n",
       "      <td>0.000000</td>\n",
       "      <td>0.000000</td>\n",
       "      <td>0.000000</td>\n",
       "      <td>0.000000</td>\n",
       "      <td>0.000000</td>\n",
       "      <td>0.000000</td>\n",
       "      <td>0.000000</td>\n",
       "      <td>...</td>\n",
       "      <td>0.000000</td>\n",
       "      <td>0.000000</td>\n",
       "      <td>0.000000</td>\n",
       "      <td>0.000000</td>\n",
       "      <td>0.000000</td>\n",
       "      <td>0.000000</td>\n",
       "      <td>0.000000</td>\n",
       "      <td>0.000000</td>\n",
       "      <td>0.000000</td>\n",
       "      <td>0.000000</td>\n",
       "    </tr>\n",
       "    <tr>\n",
       "      <th>25%</th>\n",
       "      <td>1.001516e+06</td>\n",
       "      <td>5823.000000</td>\n",
       "      <td>1.000000</td>\n",
       "      <td>0.000000</td>\n",
       "      <td>0.000000</td>\n",
       "      <td>0.000000</td>\n",
       "      <td>0.000000</td>\n",
       "      <td>0.000000</td>\n",
       "      <td>0.000000</td>\n",
       "      <td>0.000000</td>\n",
       "      <td>...</td>\n",
       "      <td>0.000000</td>\n",
       "      <td>0.000000</td>\n",
       "      <td>0.000000</td>\n",
       "      <td>0.000000</td>\n",
       "      <td>0.000000</td>\n",
       "      <td>0.000000</td>\n",
       "      <td>0.000000</td>\n",
       "      <td>0.000000</td>\n",
       "      <td>0.000000</td>\n",
       "      <td>0.000000</td>\n",
       "    </tr>\n",
       "    <tr>\n",
       "      <th>50%</th>\n",
       "      <td>1.003077e+06</td>\n",
       "      <td>8047.000000</td>\n",
       "      <td>1.000000</td>\n",
       "      <td>0.000000</td>\n",
       "      <td>0.000000</td>\n",
       "      <td>0.000000</td>\n",
       "      <td>0.000000</td>\n",
       "      <td>0.000000</td>\n",
       "      <td>0.000000</td>\n",
       "      <td>0.000000</td>\n",
       "      <td>...</td>\n",
       "      <td>0.000000</td>\n",
       "      <td>0.000000</td>\n",
       "      <td>0.000000</td>\n",
       "      <td>0.000000</td>\n",
       "      <td>0.000000</td>\n",
       "      <td>0.000000</td>\n",
       "      <td>0.000000</td>\n",
       "      <td>0.000000</td>\n",
       "      <td>0.000000</td>\n",
       "      <td>0.000000</td>\n",
       "    </tr>\n",
       "    <tr>\n",
       "      <th>75%</th>\n",
       "      <td>1.004478e+06</td>\n",
       "      <td>12054.000000</td>\n",
       "      <td>1.000000</td>\n",
       "      <td>0.000000</td>\n",
       "      <td>0.000000</td>\n",
       "      <td>0.000000</td>\n",
       "      <td>0.000000</td>\n",
       "      <td>0.000000</td>\n",
       "      <td>0.000000</td>\n",
       "      <td>0.000000</td>\n",
       "      <td>...</td>\n",
       "      <td>0.000000</td>\n",
       "      <td>0.000000</td>\n",
       "      <td>0.000000</td>\n",
       "      <td>0.000000</td>\n",
       "      <td>0.000000</td>\n",
       "      <td>0.000000</td>\n",
       "      <td>0.000000</td>\n",
       "      <td>0.000000</td>\n",
       "      <td>0.000000</td>\n",
       "      <td>0.000000</td>\n",
       "    </tr>\n",
       "    <tr>\n",
       "      <th>max</th>\n",
       "      <td>1.006040e+06</td>\n",
       "      <td>23961.000000</td>\n",
       "      <td>1.000000</td>\n",
       "      <td>1.000000</td>\n",
       "      <td>1.000000</td>\n",
       "      <td>1.000000</td>\n",
       "      <td>1.000000</td>\n",
       "      <td>1.000000</td>\n",
       "      <td>1.000000</td>\n",
       "      <td>1.000000</td>\n",
       "      <td>...</td>\n",
       "      <td>1.000000</td>\n",
       "      <td>1.000000</td>\n",
       "      <td>1.000000</td>\n",
       "      <td>1.000000</td>\n",
       "      <td>1.000000</td>\n",
       "      <td>1.000000</td>\n",
       "      <td>1.000000</td>\n",
       "      <td>1.000000</td>\n",
       "      <td>1.000000</td>\n",
       "      <td>1.000000</td>\n",
       "    </tr>\n",
       "  </tbody>\n",
       "</table>\n",
       "<p>8 rows × 55 columns</p>\n",
       "</div>"
      ],
      "text/plain": [
       "            User_ID       Purchase       Gender_M   Occupation_1  \\\n",
       "count  5.500680e+05  550068.000000  550068.000000  550068.000000   \n",
       "mean   1.003029e+06    9263.968713       0.753105       0.086218   \n",
       "std    1.727592e+03    5023.065394       0.431205       0.280687   \n",
       "min    1.000001e+06      12.000000       0.000000       0.000000   \n",
       "25%    1.001516e+06    5823.000000       1.000000       0.000000   \n",
       "50%    1.003077e+06    8047.000000       1.000000       0.000000   \n",
       "75%    1.004478e+06   12054.000000       1.000000       0.000000   \n",
       "max    1.006040e+06   23961.000000       1.000000       1.000000   \n",
       "\n",
       "        Occupation_2   Occupation_3   Occupation_4   Occupation_5  \\\n",
       "count  550068.000000  550068.000000  550068.000000  550068.000000   \n",
       "mean        0.048336       0.032087       0.131453       0.022137   \n",
       "std         0.214475       0.176231       0.337895       0.147130   \n",
       "min         0.000000       0.000000       0.000000       0.000000   \n",
       "25%         0.000000       0.000000       0.000000       0.000000   \n",
       "50%         0.000000       0.000000       0.000000       0.000000   \n",
       "75%         0.000000       0.000000       0.000000       0.000000   \n",
       "max         1.000000       1.000000       1.000000       1.000000   \n",
       "\n",
       "        Occupation_6   Occupation_7         ...           Product_Category_11  \\\n",
       "count  550068.000000  550068.000000         ...                 550068.000000   \n",
       "mean        0.037005       0.107501         ...                      0.073129   \n",
       "std         0.188773       0.309750         ...                      0.260349   \n",
       "min         0.000000       0.000000         ...                      0.000000   \n",
       "25%         0.000000       0.000000         ...                      0.000000   \n",
       "50%         0.000000       0.000000         ...                      0.000000   \n",
       "75%         0.000000       0.000000         ...                      0.000000   \n",
       "max         1.000000       1.000000         ...                      1.000000   \n",
       "\n",
       "       Product_Category_12  Product_Category_13  Product_Category_14  \\\n",
       "count        550068.000000        550068.000000        550068.000000   \n",
       "mean              0.034034             0.039157             0.136454   \n",
       "std               0.181317             0.193968             0.343270   \n",
       "min               0.000000             0.000000             0.000000   \n",
       "25%               0.000000             0.000000             0.000000   \n",
       "50%               0.000000             0.000000             0.000000   \n",
       "75%               0.000000             0.000000             0.000000   \n",
       "max               1.000000             1.000000             1.000000   \n",
       "\n",
       "       Product_Category_15  Product_Category_16  Product_Category_17  \\\n",
       "count        550068.000000        550068.000000        550068.000000   \n",
       "mean              0.131180             0.155833             0.055629   \n",
       "std               0.337598             0.362698             0.229205   \n",
       "min               0.000000             0.000000             0.000000   \n",
       "25%               0.000000             0.000000             0.000000   \n",
       "50%               0.000000             0.000000             0.000000   \n",
       "75%               0.000000             0.000000             0.000000   \n",
       "max               1.000000             1.000000             1.000000   \n",
       "\n",
       "       Product_Category_18  Product_Category_19  Product_Category_20  \n",
       "count        550068.000000        550068.000000        550068.000000  \n",
       "mean              0.019132             0.002914             0.004636  \n",
       "std               0.136990             0.053905             0.067929  \n",
       "min               0.000000             0.000000             0.000000  \n",
       "25%               0.000000             0.000000             0.000000  \n",
       "50%               0.000000             0.000000             0.000000  \n",
       "75%               0.000000             0.000000             0.000000  \n",
       "max               1.000000             1.000000             1.000000  \n",
       "\n",
       "[8 rows x 55 columns]"
      ]
     },
     "execution_count": 353,
     "metadata": {},
     "output_type": "execute_result"
    }
   ],
   "source": [
    "train_new.describe()"
   ]
  },
  {
   "cell_type": "markdown",
   "metadata": {},
   "source": [
    "## Data Modeling: Regression"
   ]
  },
  {
   "cell_type": "markdown",
   "metadata": {},
   "source": [
    "Baseline functions"
   ]
  },
  {
   "cell_type": "code",
   "execution_count": 12,
   "metadata": {},
   "outputs": [],
   "source": [
    "def rmse(y_test, y_pred):\n",
    "    '''\n",
    "    Calculate rmse function\n",
    "    '''\n",
    "    return math.sqrt(np.mean((y_pred - y_test) ** 2))"
   ]
  },
  {
   "cell_type": "code",
   "execution_count": 13,
   "metadata": {},
   "outputs": [],
   "source": [
    "def train_model(model, X_train,  y_train,  param_grid={}, splits=4):\n",
    "\n",
    "    '''\n",
    "    Modeling and evaluation function\n",
    "\n",
    "    args:\n",
    "        - model: regressor object, e.g. DecisionTreeRegressor()\n",
    "        - param_grid: a dictionary with possible parameters choices\n",
    "        - splits: number of k-folds splits\n",
    "    ''' \n",
    "    \n",
    "    # create cross-validation method\n",
    "    kfolds = KFold(n_splits = splits)\n",
    "\n",
    "    ## perform cross-validation\n",
    "    # setup grid search parameters\n",
    "    gsearch = GridSearchCV(model, param_grid, cv=kfolds,\n",
    "                           scoring='neg_mean_squared_error', return_train_score=True)\n",
    "\n",
    "    # search the grid\n",
    "    gsearch.fit(X_train,y_train)\n",
    "\n",
    "    # extract best model from the grid\n",
    "    best_model = gsearch.best_estimator_  \n",
    "    best_score = gsearch.best_score_\n",
    "    \n",
    "    # print stats on model performance         \n",
    "    print('----------------------')\n",
    "    print(best_model)\n",
    "    print('----------------------')\n",
    "    print('rmse=',math.sqrt(-best_score))\n",
    "    \n",
    "    return best_model, best_score"
   ]
  },
  {
   "cell_type": "markdown",
   "metadata": {},
   "source": [
    "### Define cross-validation and dictionary to store optimal models and scores"
   ]
  },
  {
   "cell_type": "code",
   "execution_count": 14,
   "metadata": {},
   "outputs": [],
   "source": [
    "# places to store optimal models and scores\n",
    "opt_models = dict()\n",
    "model_lst = []\n",
    "score_lst = []\n",
    "\n",
    "# no. k-fold splits\n",
    "splits=4"
   ]
  },
  {
   "cell_type": "markdown",
   "metadata": {},
   "source": [
    "### Prepare Data for Training"
   ]
  },
  {
   "cell_type": "code",
   "execution_count": 15,
   "metadata": {},
   "outputs": [],
   "source": [
    "# data with no transforming \n",
    "train_new = transform(train,False)\n",
    "test_new = transform(test,False)\n",
    "\n",
    "X_train_new = train_new.drop(\"Purchase\",1)\n",
    "Y_train_new = train_new[\"Purchase\"]"
   ]
  },
  {
   "cell_type": "code",
   "execution_count": 16,
   "metadata": {},
   "outputs": [],
   "source": [
    "# data with transforming \n",
    "train_new2 = transform(train,True)\n",
    "test_new2 = transform(test,True)\n",
    "\n",
    "X_train_new2 = train_new2.drop(\"Purchase\",1)\n",
    "Y_train_new2 = train_new2[\"Purchase\"]"
   ]
  },
  {
   "cell_type": "markdown",
   "metadata": {},
   "source": [
    "### 1. Baseline Model"
   ]
  },
  {
   "cell_type": "markdown",
   "metadata": {},
   "source": [
    "**Assuming the mean value for a certain product does not change over the years, our predicted purchase dollar amount will be the mean value for that product.**\n",
    "\n",
    "**This means our predicted purchase dollar amount will be equal to ’Product_Mean‘.**"
   ]
  },
  {
   "cell_type": "code",
   "execution_count": 17,
   "metadata": {},
   "outputs": [
    {
     "name": "stdout",
     "output_type": "stream",
     "text": [
      "Baseline Model (rmse): 2647.15\n"
     ]
    }
   ],
   "source": [
    "y_pred = X_train_new.Product_Mean\n",
    "print('Baseline Model (rmse): ' + str(round(rmse(Y_train_new, y_pred), 3)))"
   ]
  },
  {
   "cell_type": "markdown",
   "metadata": {},
   "source": [
    "Obviously, this model did not do a good job in predicting the accurate purchase amount. We then turn to other possible models."
   ]
  },
  {
   "cell_type": "markdown",
   "metadata": {},
   "source": [
    "### 2.1 Linear Regression"
   ]
  },
  {
   "cell_type": "code",
   "execution_count": 18,
   "metadata": {},
   "outputs": [
    {
     "name": "stderr",
     "output_type": "stream",
     "text": [
      "/anaconda3/lib/python3.6/site-packages/sklearn/linear_model/base.py:485: RuntimeWarning: internal gelsd driver lwork query error, required iwork dimension not returned. This is likely the result of LAPACK bug 0038, fixed in LAPACK 3.2.2 (released July 21, 2010). Falling back to 'gelss' driver.\n",
      "  linalg.lstsq(X, y)\n"
     ]
    },
    {
     "name": "stdout",
     "output_type": "stream",
     "text": [
      "----------------------\n",
      "LinearRegression(copy_X=True, fit_intercept=True, n_jobs=None,\n",
      "         normalize=False)\n",
      "----------------------\n",
      "rmse= 2641.0184648860013\n"
     ]
    }
   ],
   "source": [
    "model = 'Linear Regression'\n",
    "opt_models[model] = linear_model.LinearRegression()\n",
    "opt_models[model], cv_score= train_model(opt_models[model],X_train_new2,Y_train_new2,splits=splits)\n",
    "\n",
    "model_lst.append(model)\n",
    "score_lst.append(np.sqrt(-cv_score))"
   ]
  },
  {
   "cell_type": "code",
   "execution_count": 22,
   "metadata": {},
   "outputs": [
    {
     "data": {
      "text/plain": [
       "{'Linear Regression': LinearRegression(copy_X=True, fit_intercept=True, n_jobs=None,\n",
       "          normalize=False)}"
      ]
     },
     "execution_count": 22,
     "metadata": {},
     "output_type": "execute_result"
    }
   ],
   "source": [
    "opt_models"
   ]
  },
  {
   "cell_type": "code",
   "execution_count": 21,
   "metadata": {},
   "outputs": [
    {
     "name": "stdout",
     "output_type": "stream",
     "text": [
      "r_squared:           0.72347\n",
      "adjusted_r_squared:  0.72345\n"
     ]
    }
   ],
   "source": [
    "## calculate other metrics: R-squared and adjusted R-squared\n",
    "y_pred = opt_models['Linear Regression'].predict(X_train_new2)\n",
    "SS_Residual = sum((Y_train_new2-y_pred)**2)\n",
    "SS_Total = sum((Y_train_new2-np.mean(Y_train_new2))**2)\n",
    "r_squared = 1 - (float(SS_Residual))/SS_Total\n",
    "adjusted_r_squared = 1 - (1-r_squared)*(len(Y_train_new2)-1)/(len(Y_train_new2)-X_train_new2.shape[1]-1)\n",
    "print('r_squared:          ', round(r_squared, 5))\n",
    "print('adjusted_r_squared: ', round(adjusted_r_squared, 5))"
   ]
  },
  {
   "cell_type": "markdown",
   "metadata": {},
   "source": [
    "Because R-squared grows as number of predictors grow, we find adjusted R-squared a better metric to compare models. From the values we observed that there isn't a big difference between R-squared and adjusted R-squared."
   ]
  },
  {
   "cell_type": "code",
   "execution_count": 28,
   "metadata": {},
   "outputs": [
    {
     "data": {
      "text/plain": [
       "Text(0.5, 1.0, 'Residual vs. True Value')"
      ]
     },
     "execution_count": 28,
     "metadata": {},
     "output_type": "execute_result"
    },
    {
     "data": {
      "image/png": "[encoded data removed]",
      "text/plain": [
       "<Figure size 720x360 with 2 Axes>"
      ]
     },
     "metadata": {
      "needs_background": "light"
     },
     "output_type": "display_data"
    }
   ],
   "source": [
    "# plot y_test, y_pred, and residuals\n",
    "y_pred = opt_models[model].predict(X_train_new2)\n",
    "\n",
    "plt.figure(figsize=(10,5))\n",
    "plt.subplot(1,2,1)\n",
    "plt.plot(Y_train_new2,y_pred,'.')\n",
    "plt.xlabel('y')\n",
    "plt.ylabel('y_pred');\n",
    "plt.title('Prediction vs. True Value')\n",
    "\n",
    "plt.subplot(1,2,2)\n",
    "plt.plot(Y_train_new2, Y_train_new2-y_pred,'.')\n",
    "plt.xlabel('y')\n",
    "plt.ylabel('y - y_pred');\n",
    "plt.title('Residual vs. True Value')"
   ]
  },
  {
   "cell_type": "code",
   "execution_count": 94,
   "metadata": {},
   "outputs": [
    {
     "data": {
      "text/html": [
       "<div>\n",
       "<style scoped>\n",
       "    .dataframe tbody tr th:only-of-type {\n",
       "        vertical-align: middle;\n",
       "    }\n",
       "\n",
       "    .dataframe tbody tr th {\n",
       "        vertical-align: top;\n",
       "    }\n",
       "\n",
       "    .dataframe thead th {\n",
       "        text-align: right;\n",
       "    }\n",
       "</style>\n",
       "<table border=\"1\" class=\"dataframe\">\n",
       "  <thead>\n",
       "    <tr style=\"text-align: right;\">\n",
       "      <th></th>\n",
       "      <th>Product_Category_1</th>\n",
       "      <th>Product_Category_2</th>\n",
       "      <th>Product_Category_3</th>\n",
       "      <th>Product_Mean</th>\n",
       "      <th>Product_Count</th>\n",
       "      <th>Gender_M</th>\n",
       "      <th>Occupation_1</th>\n",
       "      <th>Occupation_2</th>\n",
       "      <th>Occupation_3</th>\n",
       "      <th>Occupation_4</th>\n",
       "      <th>...</th>\n",
       "      <th>Occupation_14</th>\n",
       "      <th>Occupation_15</th>\n",
       "      <th>Occupation_16</th>\n",
       "      <th>Occupation_17</th>\n",
       "      <th>Occupation_18</th>\n",
       "      <th>Occupation_19</th>\n",
       "      <th>Occupation_20</th>\n",
       "      <th>City_Category_B</th>\n",
       "      <th>City_Category_C</th>\n",
       "      <th>Marital_Status_1</th>\n",
       "    </tr>\n",
       "  </thead>\n",
       "  <tbody>\n",
       "    <tr>\n",
       "      <th>VIF</th>\n",
       "      <td>2.827224</td>\n",
       "      <td>2.125982</td>\n",
       "      <td>1.729012</td>\n",
       "      <td>6.095039</td>\n",
       "      <td>3.039555</td>\n",
       "      <td>3.903561</td>\n",
       "      <td>1.475454</td>\n",
       "      <td>1.261264</td>\n",
       "      <td>1.164619</td>\n",
       "      <td>1.701786</td>\n",
       "      <td>...</td>\n",
       "      <td>1.280113</td>\n",
       "      <td>1.13278</td>\n",
       "      <td>1.279799</td>\n",
       "      <td>1.465088</td>\n",
       "      <td>1.078741</td>\n",
       "      <td>1.086382</td>\n",
       "      <td>1.337905</td>\n",
       "      <td>2.369886</td>\n",
       "      <td>2.116925</td>\n",
       "      <td>1.715293</td>\n",
       "    </tr>\n",
       "  </tbody>\n",
       "</table>\n",
       "<p>1 rows × 29 columns</p>\n",
       "</div>"
      ],
      "text/plain": [
       "     Product_Category_1  Product_Category_2  Product_Category_3  Product_Mean  \\\n",
       "VIF            2.827224            2.125982            1.729012      6.095039   \n",
       "\n",
       "     Product_Count  Gender_M  Occupation_1  Occupation_2  Occupation_3  \\\n",
       "VIF       3.039555  3.903561      1.475454      1.261264      1.164619   \n",
       "\n",
       "     Occupation_4        ...         Occupation_14  Occupation_15  \\\n",
       "VIF      1.701786        ...              1.280113        1.13278   \n",
       "\n",
       "     Occupation_16  Occupation_17  Occupation_18  Occupation_19  \\\n",
       "VIF       1.279799       1.465088       1.078741       1.086382   \n",
       "\n",
       "     Occupation_20  City_Category_B  City_Category_C  Marital_Status_1  \n",
       "VIF       1.337905         2.369886         2.116925          1.715293  \n",
       "\n",
       "[1 rows x 29 columns]"
      ]
     },
     "execution_count": 94,
     "metadata": {},
     "output_type": "execute_result"
    }
   ],
   "source": [
    "## calculate VIF (detect multicollinearity)\n",
    "from statsmodels.stats.outliers_influence import variance_inflation_factor\n",
    "vif = pd.DataFrame({'VIF': [variance_inflation_factor(X_train_new.values, j) for j in range(X_train_new.shape[1])]},\n",
    "index = X_train_new.columns)"
   ]
  },
  {
   "cell_type": "code",
   "execution_count": 95,
   "metadata": {},
   "outputs": [
    {
     "data": {
      "text/html": [
       "<div>\n",
       "<style scoped>\n",
       "    .dataframe tbody tr th:only-of-type {\n",
       "        vertical-align: middle;\n",
       "    }\n",
       "\n",
       "    .dataframe tbody tr th {\n",
       "        vertical-align: top;\n",
       "    }\n",
       "\n",
       "    .dataframe thead th {\n",
       "        text-align: right;\n",
       "    }\n",
       "</style>\n",
       "<table border=\"1\" class=\"dataframe\">\n",
       "  <thead>\n",
       "    <tr style=\"text-align: right;\">\n",
       "      <th></th>\n",
       "      <th>VIF</th>\n",
       "    </tr>\n",
       "  </thead>\n",
       "  <tbody>\n",
       "    <tr>\n",
       "      <th>Product_Category_1</th>\n",
       "      <td>2.827224</td>\n",
       "    </tr>\n",
       "    <tr>\n",
       "      <th>Product_Category_2</th>\n",
       "      <td>2.125982</td>\n",
       "    </tr>\n",
       "    <tr>\n",
       "      <th>Product_Category_3</th>\n",
       "      <td>1.729012</td>\n",
       "    </tr>\n",
       "    <tr>\n",
       "      <th>Product_Mean</th>\n",
       "      <td>6.095039</td>\n",
       "    </tr>\n",
       "    <tr>\n",
       "      <th>Product_Count</th>\n",
       "      <td>3.039555</td>\n",
       "    </tr>\n",
       "    <tr>\n",
       "      <th>Gender_M</th>\n",
       "      <td>3.903561</td>\n",
       "    </tr>\n",
       "    <tr>\n",
       "      <th>Occupation_1</th>\n",
       "      <td>1.475454</td>\n",
       "    </tr>\n",
       "    <tr>\n",
       "      <th>Occupation_2</th>\n",
       "      <td>1.261264</td>\n",
       "    </tr>\n",
       "    <tr>\n",
       "      <th>Occupation_3</th>\n",
       "      <td>1.164619</td>\n",
       "    </tr>\n",
       "    <tr>\n",
       "      <th>Occupation_4</th>\n",
       "      <td>1.701786</td>\n",
       "    </tr>\n",
       "    <tr>\n",
       "      <th>Occupation_5</th>\n",
       "      <td>1.129879</td>\n",
       "    </tr>\n",
       "    <tr>\n",
       "      <th>Occupation_6</th>\n",
       "      <td>1.208622</td>\n",
       "    </tr>\n",
       "    <tr>\n",
       "      <th>Occupation_7</th>\n",
       "      <td>1.638800</td>\n",
       "    </tr>\n",
       "    <tr>\n",
       "      <th>Occupation_8</th>\n",
       "      <td>1.017695</td>\n",
       "    </tr>\n",
       "    <tr>\n",
       "      <th>Occupation_9</th>\n",
       "      <td>1.075987</td>\n",
       "    </tr>\n",
       "    <tr>\n",
       "      <th>Occupation_10</th>\n",
       "      <td>1.133360</td>\n",
       "    </tr>\n",
       "    <tr>\n",
       "      <th>Occupation_11</th>\n",
       "      <td>1.131266</td>\n",
       "    </tr>\n",
       "    <tr>\n",
       "      <th>Occupation_12</th>\n",
       "      <td>1.362970</td>\n",
       "    </tr>\n",
       "    <tr>\n",
       "      <th>Occupation_13</th>\n",
       "      <td>1.101102</td>\n",
       "    </tr>\n",
       "    <tr>\n",
       "      <th>Occupation_14</th>\n",
       "      <td>1.280113</td>\n",
       "    </tr>\n",
       "    <tr>\n",
       "      <th>Occupation_15</th>\n",
       "      <td>1.132780</td>\n",
       "    </tr>\n",
       "    <tr>\n",
       "      <th>Occupation_16</th>\n",
       "      <td>1.279799</td>\n",
       "    </tr>\n",
       "    <tr>\n",
       "      <th>Occupation_17</th>\n",
       "      <td>1.465088</td>\n",
       "    </tr>\n",
       "    <tr>\n",
       "      <th>Occupation_18</th>\n",
       "      <td>1.078741</td>\n",
       "    </tr>\n",
       "    <tr>\n",
       "      <th>Occupation_19</th>\n",
       "      <td>1.086382</td>\n",
       "    </tr>\n",
       "    <tr>\n",
       "      <th>Occupation_20</th>\n",
       "      <td>1.337905</td>\n",
       "    </tr>\n",
       "    <tr>\n",
       "      <th>City_Category_B</th>\n",
       "      <td>2.369886</td>\n",
       "    </tr>\n",
       "    <tr>\n",
       "      <th>City_Category_C</th>\n",
       "      <td>2.116925</td>\n",
       "    </tr>\n",
       "    <tr>\n",
       "      <th>Marital_Status_1</th>\n",
       "      <td>1.715293</td>\n",
       "    </tr>\n",
       "  </tbody>\n",
       "</table>\n",
       "</div>"
      ],
      "text/plain": [
       "                         VIF\n",
       "Product_Category_1  2.827224\n",
       "Product_Category_2  2.125982\n",
       "Product_Category_3  1.729012\n",
       "Product_Mean        6.095039\n",
       "Product_Count       3.039555\n",
       "Gender_M            3.903561\n",
       "Occupation_1        1.475454\n",
       "Occupation_2        1.261264\n",
       "Occupation_3        1.164619\n",
       "Occupation_4        1.701786\n",
       "Occupation_5        1.129879\n",
       "Occupation_6        1.208622\n",
       "Occupation_7        1.638800\n",
       "Occupation_8        1.017695\n",
       "Occupation_9        1.075987\n",
       "Occupation_10       1.133360\n",
       "Occupation_11       1.131266\n",
       "Occupation_12       1.362970\n",
       "Occupation_13       1.101102\n",
       "Occupation_14       1.280113\n",
       "Occupation_15       1.132780\n",
       "Occupation_16       1.279799\n",
       "Occupation_17       1.465088\n",
       "Occupation_18       1.078741\n",
       "Occupation_19       1.086382\n",
       "Occupation_20       1.337905\n",
       "City_Category_B     2.369886\n",
       "City_Category_C     2.116925\n",
       "Marital_Status_1    1.715293"
      ]
     },
     "execution_count": 95,
     "metadata": {},
     "output_type": "execute_result"
    }
   ],
   "source": [
    "vif"
   ]
  },
  {
   "cell_type": "markdown",
   "metadata": {},
   "source": [
    "By computing the VIF of all predictors, we found that the VIF score for 'Product_Mean' is particularity high. This makes sense because 'Product_Mean' is calculated by using values from other predictors. Thus, there exists strong multicollinearity for some predictors in our data set."
   ]
  },
  {
   "cell_type": "markdown",
   "metadata": {},
   "source": [
    "### 2.2 Lasso"
   ]
  },
  {
   "cell_type": "code",
   "execution_count": 29,
   "metadata": {},
   "outputs": [
    {
     "name": "stdout",
     "output_type": "stream",
     "text": [
      "----------------------\n",
      "Lasso(alpha=0.3, copy_X=True, fit_intercept=True, max_iter=1000,\n",
      "   normalize=False, positive=False, precompute=False, random_state=None,\n",
      "   selection='cyclic', tol=0.0001, warm_start=False)\n",
      "----------------------\n",
      "rmse= 2641.155114101768\n"
     ]
    }
   ],
   "source": [
    "model = 'Lasso'\n",
    "\n",
    "opt_models[model] = Lasso()\n",
    "alph_range = [0.5e-2, 1e-1, 0.2, 0.3, 0.4, 0.5, 1]\n",
    "param_grid = {'alpha': alph_range}\n",
    "\n",
    "opt_models[model], cv_score = train_model(opt_models[model], X_train_new2, Y_train_new2, param_grid=param_grid, splits=splits)\n",
    "\n",
    "model_lst.append(model)\n",
    "score_lst.append(np.sqrt(-cv_score))"
   ]
  },
  {
   "cell_type": "markdown",
   "metadata": {},
   "source": [
    "As we can see, α  = 0.5 gives the lowest Root Mean Squared Error of the model."
   ]
  },
  {
   "cell_type": "markdown",
   "metadata": {},
   "source": [
    "### 3. Random Forest"
   ]
  },
  {
   "cell_type": "code",
   "execution_count": null,
   "metadata": {},
   "outputs": [],
   "source": [
    "model = 'Random Forest'\n",
    "\n",
    "opt_models[model] = RandomForestRegressor(verbose = 10)\n",
    "\n",
    "n_estimators = [int(x) for x in np.linspace(start = 100, stop = 1200, num = 12)]\n",
    "max_features = ['auto', 'sqrt']\n",
    "max_depth = [int(x) for x in np.linspace(5, 30, num = 6)]\n",
    "min_samples_split = [2, 5, 10, 15, 100]\n",
    "min_samples_leaf = [1, 2, 5, 10]\n",
    "\n",
    "# Create the random grid\n",
    "param_grid = {'n_estimators': n_estimators,\n",
    "               'max_features': max_features,\n",
    "               'max_depth': max_depth,\n",
    "               'min_samples_split': min_samples_split,\n",
    "               'min_samples_leaf': min_samples_leaf}\n",
    "\n",
    "opt_models[model], cv_score = train_model(opt_models[model], X_train_new,Y_train_new, param_grid=param_grid, splits=splits)\n",
    "\n",
    "model_lst.append(model)\n",
    "score_lst.append(np.sqrt(-cv_score))"
   ]
  },
  {
   "cell_type": "markdown",
   "metadata": {},
   "source": [
    "### 4. XGBoost"
   ]
  },
  {
   "cell_type": "code",
   "execution_count": 36,
   "metadata": {},
   "outputs": [
    {
     "name": "stdout",
     "output_type": "stream",
     "text": [
      "----------------------\n",
      "XGBRegressor(base_score=0.5, booster='gbtree', colsample_bylevel=1,\n",
      "       colsample_bytree=1, eta=0.01, eval_metric='rmse', gamma=0,\n",
      "       learning_rate=0.1, max_delta_step=0, max_depth=7,\n",
      "       min_child_weight=7, missing=None, n_estimators=100, n_jobs=1,\n",
      "       nthread=None, objective='reg:linear', random_state=0, reg_alpha=1,\n",
      "       reg_lambda=1, scale_pos_weight=1, seed=None, silent=True,\n",
      "       subsample=1)\n",
      "----------------------\n",
      "rmse= 2628.242809246184\n"
     ]
    }
   ],
   "source": [
    "model = 'XGB'\n",
    "opt_models[model] = XGBRegressor()\n",
    "\n",
    "eta = [0.01, 0.1]\n",
    "n_estimators = [100, 200, 500, 1000]\n",
    "max_depth = range(3,10,2)\n",
    "min_child_weight = range(1,6,2)\n",
    "gamma = [i/10.0 for i in range(0,5)]\n",
    "subsample = [i/10.0 for i in range(6,10)]\n",
    "colsample_bytree = [i/10.0 for i in range(6,10)]\n",
    "reg_alpha = [1e-5, 1e-2, 0.1, 1, 100]\n",
    "eval_metric = ['rmse']\n",
    "\n",
    "param_grid = {'eta': [0.01],\n",
    "             'max_depth': [7],\n",
    "             'min_child_weight': [7],\n",
    "             'gamma': [0],\n",
    "             'subsample': [1],\n",
    "             'colsample_bytree': [1],\n",
    "             'reg_alpha': [1],\n",
    "             'eval_metric': eval_metric,\n",
    "             'n_estimators': n_estimators}\n",
    "\n",
    "opt_models[model], cv_score = train_model(opt_models[model], X_train_new,Y_train_new,param_grid=param_grid, splits=splits)\n",
    "\n",
    "model_lst.append(model)\n",
    "score_lst.append(np.sqrt(-cv_score))"
   ]
  },
  {
   "cell_type": "markdown",
   "metadata": {},
   "source": [
    "For 'gamma', 'subsample' and 'colsample_bytree', we found default parameters actually did a better job."
   ]
  },
  {
   "cell_type": "code",
   "execution_count": 97,
   "metadata": {},
   "outputs": [
    {
     "name": "stdout",
     "output_type": "stream",
     "text": [
      "XGBRegressor(base_score=0.5, booster='gbtree', colsample_bylevel=1,\n",
      "       colsample_bytree=1, eta=0.1, gamma=0, learning_rate=0.1,\n",
      "       max_delta_step=0, max_depth=7, min_child_weight=5, missing=None,\n",
      "       n_estimators=100, n_jobs=1, nthread=None, objective='reg:linear',\n",
      "       random_state=0, reg_alpha=0, reg_lambda=1, scale_pos_weight=1,\n",
      "       seed=None, silent=True, subsample=1)\n",
      "2630.194544550225\n"
     ]
    }
   ],
   "source": [
    "print(opt_models['XGB'])\n",
    "print(np.sqrt(-cv_score))"
   ]
  },
  {
   "cell_type": "code",
   "execution_count": 37,
   "metadata": {},
   "outputs": [
    {
     "data": {
      "text/html": [
       "<div>\n",
       "<style scoped>\n",
       "    .dataframe tbody tr th:only-of-type {\n",
       "        vertical-align: middle;\n",
       "    }\n",
       "\n",
       "    .dataframe tbody tr th {\n",
       "        vertical-align: top;\n",
       "    }\n",
       "\n",
       "    .dataframe thead th {\n",
       "        text-align: right;\n",
       "    }\n",
       "</style>\n",
       "<table border=\"1\" class=\"dataframe\">\n",
       "  <thead>\n",
       "    <tr style=\"text-align: right;\">\n",
       "      <th></th>\n",
       "      <th>mean_cv_rmse</th>\n",
       "    </tr>\n",
       "  </thead>\n",
       "  <tbody>\n",
       "    <tr>\n",
       "      <th>Linear Regression</th>\n",
       "      <td>2641.190162</td>\n",
       "    </tr>\n",
       "    <tr>\n",
       "      <th>Lasso</th>\n",
       "      <td>2641.155114</td>\n",
       "    </tr>\n",
       "    <tr>\n",
       "      <th>XGB</th>\n",
       "      <td>2628.134946</td>\n",
       "    </tr>\n",
       "    <tr>\n",
       "      <th>XGB</th>\n",
       "      <td>2628.464937</td>\n",
       "    </tr>\n",
       "    <tr>\n",
       "      <th>XGB</th>\n",
       "      <td>2628.134946</td>\n",
       "    </tr>\n",
       "    <tr>\n",
       "      <th>XGB</th>\n",
       "      <td>2628.242809</td>\n",
       "    </tr>\n",
       "  </tbody>\n",
       "</table>\n",
       "</div>"
      ],
      "text/plain": [
       "                   mean_cv_rmse\n",
       "Linear Regression   2641.190162\n",
       "Lasso               2641.155114\n",
       "XGB                 2628.134946\n",
       "XGB                 2628.464937\n",
       "XGB                 2628.134946\n",
       "XGB                 2628.242809"
      ]
     },
     "execution_count": 37,
     "metadata": {},
     "output_type": "execute_result"
    }
   ],
   "source": [
    "model_scores = pd.DataFrame({'mean_cv_rmse': score_lst}, index = model_lst)\n",
    "model_scores"
   ]
  },
  {
   "cell_type": "markdown",
   "metadata": {},
   "source": [
    "## Neural Network"
   ]
  },
  {
   "cell_type": "code",
   "execution_count": null,
   "metadata": {},
   "outputs": [],
   "source": [
    "model = 'Neural Network'\n",
    "opt_models[model] = MLPRegressor(solver='adam', verbose=True)\n",
    "\n",
    "hidden_layer_sizes = [(100),(100,50),(200,100,50)(1000,500,200,100)]\n",
    "activation = ['relu','tanh']\n",
    "batch_size = [32,80,150,200]\n",
    "learning_rate_init = [0.0001,0.001,0.01,0.1]\n",
    "early_stopping = [True, False]\n",
    "beta_1 = [0.8,0.9,0.95,0.92]\n",
    "beta_2 = [0.9,0.99,0.999,0.999]\n",
    "param_grid = {'hidden_layer_sizes' :hidden_layer_sizes, 'activation': activation, 'batch_size': batch_size,\n",
    "              'learning_rate_init': learning_rate_init,'early_stopping': early_stopping, 'beta_1': beta_1, \"beta_2\": beta_2}\n",
    "\n",
    "opt_models[model], cv_score, gsearch = train_model(opt_models[model], X_train_new2, Y_train_new2, param_grid=param_grid,splits =splits)"
   ]
  },
  {
   "cell_type": "markdown",
   "metadata": {},
   "source": [
    "### Model Comparison"
   ]
  },
  {
   "cell_type": "markdown",
   "metadata": {},
   "source": [
    "**As we can see, XGBoost did the best on model performance in giving the most accurate sales prediction.**"
   ]
  },
  {
   "cell_type": "code",
   "execution_count": null,
   "metadata": {},
   "outputs": [],
   "source": [
    "best_estimator = opt_models['XGB']\n",
    "all_data = transform(train_df, True)\n",
    "all_x = all_data.drop(\"Purchase\",1)\n",
    "all_y = all_data[\"Purchase\"]\n",
    "best_estimator.fit(all_x, all_y)\n",
    "\n",
    "# feature importance\n",
    "importance = best_estimator.feature_importances_\n"
   ]
  },
  {
   "cell_type": "code",
   "execution_count": null,
   "metadata": {},
   "outputs": [],
   "source": [
    "model_scores = pd.DataFrame({'mean_cv_rmse': [2641.190162, 2641.155114, 2640.3782, np.nan, 2628.2428]},\n",
    "                           index = ['Linear Regression', 'Lasso', 'Random Forest', 'Neural Network', 'XGB'])"
   ]
  },
  {
   "cell_type": "code",
   "execution_count": 41,
   "metadata": {},
   "outputs": [
    {
     "data": {
      "text/html": [
       "<div>\n",
       "<style scoped>\n",
       "    .dataframe tbody tr th:only-of-type {\n",
       "        vertical-align: middle;\n",
       "    }\n",
       "\n",
       "    .dataframe tbody tr th {\n",
       "        vertical-align: top;\n",
       "    }\n",
       "\n",
       "    .dataframe thead th {\n",
       "        text-align: right;\n",
       "    }\n",
       "</style>\n",
       "<table border=\"1\" class=\"dataframe\">\n",
       "  <thead>\n",
       "    <tr style=\"text-align: right;\">\n",
       "      <th></th>\n",
       "      <th>mean_cv_rmse</th>\n",
       "    </tr>\n",
       "  </thead>\n",
       "  <tbody>\n",
       "    <tr>\n",
       "      <th>Linear Regression</th>\n",
       "      <td>2641.190162</td>\n",
       "    </tr>\n",
       "    <tr>\n",
       "      <th>Lasso</th>\n",
       "      <td>2641.155114</td>\n",
       "    </tr>\n",
       "    <tr>\n",
       "      <th>Random Forest</th>\n",
       "      <td>2640.378200</td>\n",
       "    </tr>\n",
       "    <tr>\n",
       "      <th>Neural Network</th>\n",
       "      <td>NaN</td>\n",
       "    </tr>\n",
       "    <tr>\n",
       "      <th>XGB</th>\n",
       "      <td>2628.242800</td>\n",
       "    </tr>\n",
       "  </tbody>\n",
       "</table>\n",
       "</div>"
      ],
      "text/plain": [
       "                   mean_cv_rmse\n",
       "Linear Regression   2641.190162\n",
       "Lasso               2641.155114\n",
       "Random Forest       2640.378200\n",
       "Neural Network              NaN\n",
       "XGB                 2628.242800"
      ]
     },
     "execution_count": 41,
     "metadata": {},
     "output_type": "execute_result"
    }
   ],
   "source": [
    "model_scores"
   ]
  },
  {
   "cell_type": "markdown",
   "metadata": {},
   "source": [
    "### Sales prediction on testing data"
   ]
  },
  {
   "cell_type": "code",
   "execution_count": 177,
   "metadata": {},
   "outputs": [],
   "source": [
    "test = transform(test_df)\n",
    "train = transform(train_df)"
   ]
  },
  {
   "cell_type": "code",
   "execution_count": 178,
   "metadata": {},
   "outputs": [],
   "source": [
    "%matplotlib inline\n",
    "\n",
    "# use all data for training again\n",
    "best_estimator = opt_models['XGB']\n",
    "clf = best_estimator\n",
    "\n",
    "X_train_new = train.drop(\"Purchase\",1)\n",
    "Y_train_new = train[\"Purchase\"]"
   ]
  },
  {
   "cell_type": "code",
   "execution_count": 179,
   "metadata": {},
   "outputs": [
    {
     "data": {
      "text/plain": [
       "XGBRegressor(base_score=0.5, booster='gbtree', colsample_bylevel=1,\n",
       "       colsample_bytree=1, eta=0.01, eval_metric='rmse', gamma=0,\n",
       "       learning_rate=0.1, max_delta_step=0, max_depth=7,\n",
       "       min_child_weight=7, missing=None, n_estimators=100, n_jobs=1,\n",
       "       nthread=None, objective='reg:linear', random_state=0, reg_alpha=1,\n",
       "       reg_lambda=1, scale_pos_weight=1, seed=None, silent=True,\n",
       "       subsample=1)"
      ]
     },
     "execution_count": 179,
     "metadata": {},
     "output_type": "execute_result"
    }
   ],
   "source": [
    "# fit train set\n",
    "clf.fit(X_train_new, Y_train_new)"
   ]
  },
  {
   "cell_type": "code",
   "execution_count": 180,
   "metadata": {},
   "outputs": [],
   "source": [
    "# make prediction on test set\n",
    "test_result = clf.predict(test)"
   ]
  },
  {
   "cell_type": "code",
   "execution_count": 181,
   "metadata": {},
   "outputs": [],
   "source": [
    "test_result = pd.DataFrame(test_result, columns =['Purchase_Predicted'])\n"
   ]
  },
  {
   "cell_type": "code",
   "execution_count": 183,
   "metadata": {},
   "outputs": [],
   "source": [
    "test_result1 = test_result.copy()"
   ]
  },
  {
   "cell_type": "code",
   "execution_count": 184,
   "metadata": {},
   "outputs": [],
   "source": [
    "test = pd.merge(test, test_result, right_index=True, left_index=True)"
   ]
  },
  {
   "cell_type": "code",
   "execution_count": 186,
   "metadata": {},
   "outputs": [],
   "source": [
    "test1 = test.copy()"
   ]
  },
  {
   "cell_type": "code",
   "execution_count": 188,
   "metadata": {},
   "outputs": [],
   "source": [
    "userid = test_df['User_ID']"
   ]
  },
  {
   "cell_type": "code",
   "execution_count": 191,
   "metadata": {},
   "outputs": [],
   "source": [
    "userid = pd.DataFrame(userid, columns= ['User_ID'])"
   ]
  },
  {
   "cell_type": "code",
   "execution_count": 193,
   "metadata": {},
   "outputs": [],
   "source": [
    "test = pd.merge(test, userid, right_index=True, left_index=True)"
   ]
  },
  {
   "cell_type": "code",
   "execution_count": 197,
   "metadata": {},
   "outputs": [],
   "source": [
    "group_by_ID = test.groupby('User_ID')['Purchase_Predicted']"
   ]
  },
  {
   "cell_type": "code",
   "execution_count": 203,
   "metadata": {},
   "outputs": [
    {
     "data": {
      "text/plain": [
       "<matplotlib.axes._subplots.AxesSubplot at 0x11b583748>"
      ]
     },
     "execution_count": 203,
     "metadata": {},
     "output_type": "execute_result"
    },
    {
     "data": {
      "image/png": "[encoded data removed]",
      "text/plain": [
       "<Figure size 432x288 with 1 Axes>"
      ]
     },
     "metadata": {
      "needs_background": "light"
     },
     "output_type": "display_data"
    }
   ],
   "source": [
    "group_by_ID.mean().plot()"
   ]
  },
  {
   "cell_type": "markdown",
   "metadata": {},
   "source": [
    "### Feature Importance and Sales Prediction"
   ]
  },
  {
   "cell_type": "code",
   "execution_count": 57,
   "metadata": {},
   "outputs": [
    {
     "data": {
      "image/png": "[encoded data removed]",
      "text/plain": [
       "<Figure size 432x288 with 1 Axes>"
      ]
     },
     "metadata": {
      "needs_background": "light"
     },
     "output_type": "display_data"
    }
   ],
   "source": [
    "# plot actual and predicted sales data\n",
    "sns.distplot(Y_test_new, label = 'actual')\n",
    "sns.distplot(Y_test_pred, label = 'predicted')\n",
    "plt.legend(loc = 1)\n",
    "plt.xlabel(\"Purchase Amount\")\n",
    "plt.ylabel(\"Density\")\n",
    "plt.title(\"Black Friday Sales Prediction\")\n",
    "plt.savefig('prediction.png', dpi=300)"
   ]
  }
 ],
 "metadata": {
  "kernelspec": {
   "display_name": "Python 3",
   "language": "python",
   "name": "python3"
  },
  "language_info": {
   "codemirror_mode": {
    "name": "ipython",
    "version": 3
   },
   "file_extension": ".py",
   "mimetype": "text/x-python",
   "name": "python",
   "nbconvert_exporter": "python",
   "pygments_lexer": "ipython3",
   "version": "3.6.6"
  }
 },
 "nbformat": 4,
 "nbformat_minor": 2
}
